{
 "cells": [
  {
   "cell_type": "code",
   "execution_count": 2,
   "metadata": {
    "tags": []
   },
   "outputs": [],
   "source": [
    "## Import packages\n",
    "import pandas as pd\n",
    "import numpy as np\n",
    "import matplotlib.pyplot as plt\n",
    "from sklearn.cluster import DBSCAN\n",
    "from sklearn.cluster import HDBSCAN\n",
    "\n",
    "from sklearn.neighbors import NearestNeighbors\n",
    "import seaborn as sns\n",
    "from sklearn.cluster import KMeans\n",
    "from sklearn.preprocessing import StandardScaler\n",
    "\n",
    "# For upsampling during the modeling\n",
    "from imblearn.over_sampling import SMOTE\n",
    "from geopy.distance import geodesic\n",
    "import re\n",
    "import geopandas as gpd\n",
    "import glob\n",
    "from kneed import KneeLocator\n",
    "from sklearn.decomposition import PCA\n",
    "from sklearn.model_selection import RandomizedSearchCV\n",
    "from sklearn.metrics import make_scorer\n",
    "import hdbscan\n",
    "from sklearn.ensemble import RandomForestClassifier\n",
    "from scipy.stats import uniform, truncnorm, randint\n",
    "from sklearn.preprocessing import scale\n",
    "from KmeansWithNulls import KmeansWithNulls"
   ]
  },
  {
   "cell_type": "markdown",
   "metadata": {},
   "source": [
    "Preprocessing (loading data and scaling)"
   ]
  },
  {
   "cell_type": "code",
   "execution_count": 3,
   "metadata": {
    "tags": []
   },
   "outputs": [],
   "source": [
    "# Get preprocessed train and test data\n",
    "feats = pd.read_csv(\"xgboost_preprocessed_data/xgboost_data_new100.csv\")"
   ]
  },
  {
   "cell_type": "code",
   "execution_count": 4,
   "metadata": {
    "tags": []
   },
   "outputs": [],
   "source": [
    "## Fill NA values with mean \n",
    "cols_to_imp = ['speed_std', 'dist_std', 'x_std', 'y_std']\n",
    "feats[cols_to_imp] = feats[cols_to_imp].fillna(feats[cols_to_imp].mean())\n"
   ]
  },
  {
   "cell_type": "code",
   "execution_count": 5,
   "metadata": {
    "tags": []
   },
   "outputs": [],
   "source": [
    "## Scale features that still need to be scaled\n",
    "\n",
    "scaled_colum = ['speed_0',\n",
    "       'speed_med', 'speed_99', 'speed_std', 'dist_med', 'dist_99', 'dist_std','entries']\n",
    "scaler = StandardScaler()\n",
    "scaled_feats = feats.copy()\n",
    "for i in scaled_colum:\n",
    "    scaled_feats[i] = scale(scaled_feats[i])\n",
    "    "
   ]
  },
  {
   "cell_type": "code",
   "execution_count": 6,
   "metadata": {
    "tags": []
   },
   "outputs": [],
   "source": [
    "scaled_feats = pd.DataFrame(scaled_feats, columns = feats.columns)"
   ]
  },
  {
   "cell_type": "code",
   "execution_count": 7,
   "metadata": {
    "tags": []
   },
   "outputs": [
    {
     "data": {
      "text/html": [
       "<div>\n",
       "<style scoped>\n",
       "    .dataframe tbody tr th:only-of-type {\n",
       "        vertical-align: middle;\n",
       "    }\n",
       "\n",
       "    .dataframe tbody tr th {\n",
       "        vertical-align: top;\n",
       "    }\n",
       "\n",
       "    .dataframe thead th {\n",
       "        text-align: right;\n",
       "    }\n",
       "</style>\n",
       "<table border=\"1\" class=\"dataframe\">\n",
       "  <thead>\n",
       "    <tr style=\"text-align: right;\">\n",
       "      <th></th>\n",
       "      <th>speed_0</th>\n",
       "      <th>speed_med</th>\n",
       "      <th>speed_99</th>\n",
       "      <th>speed_std</th>\n",
       "      <th>dist_med</th>\n",
       "      <th>dist_99</th>\n",
       "      <th>dist_std</th>\n",
       "      <th>x_0</th>\n",
       "      <th>x_med</th>\n",
       "      <th>x_99</th>\n",
       "      <th>x_std</th>\n",
       "      <th>y_0</th>\n",
       "      <th>y_med</th>\n",
       "      <th>y_99</th>\n",
       "      <th>y_std</th>\n",
       "      <th>entries</th>\n",
       "    </tr>\n",
       "  </thead>\n",
       "  <tbody>\n",
       "    <tr>\n",
       "      <th>0</th>\n",
       "      <td>-0.264238</td>\n",
       "      <td>-0.380418</td>\n",
       "      <td>-0.608081</td>\n",
       "      <td>-0.797178</td>\n",
       "      <td>-0.058250</td>\n",
       "      <td>-0.063238</td>\n",
       "      <td>-0.076438</td>\n",
       "      <td>0.133253</td>\n",
       "      <td>0.133253</td>\n",
       "      <td>0.133253</td>\n",
       "      <td>0.000000</td>\n",
       "      <td>0.651053</td>\n",
       "      <td>0.651053</td>\n",
       "      <td>0.651053</td>\n",
       "      <td>0.000000</td>\n",
       "      <td>-0.342891</td>\n",
       "    </tr>\n",
       "    <tr>\n",
       "      <th>1</th>\n",
       "      <td>0.239545</td>\n",
       "      <td>0.429431</td>\n",
       "      <td>0.378932</td>\n",
       "      <td>1.276807</td>\n",
       "      <td>0.269897</td>\n",
       "      <td>0.283699</td>\n",
       "      <td>0.729559</td>\n",
       "      <td>0.037781</td>\n",
       "      <td>0.059676</td>\n",
       "      <td>0.081572</td>\n",
       "      <td>0.030965</td>\n",
       "      <td>0.699434</td>\n",
       "      <td>0.835477</td>\n",
       "      <td>0.971519</td>\n",
       "      <td>0.192393</td>\n",
       "      <td>-0.359015</td>\n",
       "    </tr>\n",
       "    <tr>\n",
       "      <th>2</th>\n",
       "      <td>-0.264238</td>\n",
       "      <td>-0.380418</td>\n",
       "      <td>-0.608081</td>\n",
       "      <td>-0.797178</td>\n",
       "      <td>-0.058250</td>\n",
       "      <td>-0.063238</td>\n",
       "      <td>-0.076438</td>\n",
       "      <td>0.069601</td>\n",
       "      <td>0.069601</td>\n",
       "      <td>0.069601</td>\n",
       "      <td>0.000000</td>\n",
       "      <td>0.200804</td>\n",
       "      <td>0.200804</td>\n",
       "      <td>0.200804</td>\n",
       "      <td>0.000000</td>\n",
       "      <td>-0.348266</td>\n",
       "    </tr>\n",
       "    <tr>\n",
       "      <th>3</th>\n",
       "      <td>-0.264238</td>\n",
       "      <td>-0.380418</td>\n",
       "      <td>-0.608081</td>\n",
       "      <td>-0.797178</td>\n",
       "      <td>1.025515</td>\n",
       "      <td>0.509685</td>\n",
       "      <td>1.010310</td>\n",
       "      <td>0.069601</td>\n",
       "      <td>0.133253</td>\n",
       "      <td>0.133253</td>\n",
       "      <td>0.036749</td>\n",
       "      <td>0.200814</td>\n",
       "      <td>0.651043</td>\n",
       "      <td>0.651053</td>\n",
       "      <td>0.259943</td>\n",
       "      <td>-0.353641</td>\n",
       "    </tr>\n",
       "    <tr>\n",
       "      <th>4</th>\n",
       "      <td>-0.264238</td>\n",
       "      <td>0.417694</td>\n",
       "      <td>0.183586</td>\n",
       "      <td>0.774633</td>\n",
       "      <td>0.620295</td>\n",
       "      <td>5.058441</td>\n",
       "      <td>7.032474</td>\n",
       "      <td>0.069601</td>\n",
       "      <td>0.397178</td>\n",
       "      <td>0.401358</td>\n",
       "      <td>0.091522</td>\n",
       "      <td>0.200814</td>\n",
       "      <td>0.918348</td>\n",
       "      <td>0.969039</td>\n",
       "      <td>0.239350</td>\n",
       "      <td>-0.208527</td>\n",
       "    </tr>\n",
       "  </tbody>\n",
       "</table>\n",
       "</div>"
      ],
      "text/plain": [
       "    speed_0  speed_med  speed_99  speed_std  dist_med   dist_99  dist_std  \\\n",
       "0 -0.264238  -0.380418 -0.608081  -0.797178 -0.058250 -0.063238 -0.076438   \n",
       "1  0.239545   0.429431  0.378932   1.276807  0.269897  0.283699  0.729559   \n",
       "2 -0.264238  -0.380418 -0.608081  -0.797178 -0.058250 -0.063238 -0.076438   \n",
       "3 -0.264238  -0.380418 -0.608081  -0.797178  1.025515  0.509685  1.010310   \n",
       "4 -0.264238   0.417694  0.183586   0.774633  0.620295  5.058441  7.032474   \n",
       "\n",
       "        x_0     x_med      x_99     x_std       y_0     y_med      y_99  \\\n",
       "0  0.133253  0.133253  0.133253  0.000000  0.651053  0.651053  0.651053   \n",
       "1  0.037781  0.059676  0.081572  0.030965  0.699434  0.835477  0.971519   \n",
       "2  0.069601  0.069601  0.069601  0.000000  0.200804  0.200804  0.200804   \n",
       "3  0.069601  0.133253  0.133253  0.036749  0.200814  0.651043  0.651053   \n",
       "4  0.069601  0.397178  0.401358  0.091522  0.200814  0.918348  0.969039   \n",
       "\n",
       "      y_std   entries  \n",
       "0  0.000000 -0.342891  \n",
       "1  0.192393 -0.359015  \n",
       "2  0.000000 -0.348266  \n",
       "3  0.259943 -0.353641  \n",
       "4  0.239350 -0.208527  "
      ]
     },
     "execution_count": 7,
     "metadata": {},
     "output_type": "execute_result"
    }
   ],
   "source": [
    "## Select final features to model with\n",
    "clust_feats = scaled_feats[['speed_0',\n",
    "       'speed_med', 'speed_99', 'speed_std', 'dist_med', 'dist_99', 'dist_std',\n",
    "       'x_0', 'x_med', 'x_99', 'x_std', 'y_0', 'y_med', 'y_99', 'y_std', 'entries']]\n",
    "clust_feats.head()"
   ]
  },
  {
   "cell_type": "markdown",
   "metadata": {},
   "source": [
    "## Doing kmeans"
   ]
  },
  {
   "cell_type": "markdown",
   "metadata": {},
   "source": [
    "### elbo to find number of clusters"
   ]
  },
  {
   "cell_type": "code",
   "execution_count": 8,
   "metadata": {
    "tags": []
   },
   "outputs": [],
   "source": [
    "kmeans_kwargs = {\n",
    "     \"init\": \"random\",\n",
    "     \"n_init\": 10,\n",
    "     \"max_iter\": 300,\n",
    "     \"random_state\": 42,\n",
    " }\n",
    "# A list holds the SSE values for each k\n",
    "sse = []\n",
    "for k in range(1, 10):\n",
    "     kmeans = KMeans(n_clusters=k, **kmeans_kwargs)\n",
    "     kmeans.fit(clust_feats)\n",
    "     sse.append(kmeans.inertia_)"
   ]
  },
  {
   "cell_type": "code",
   "execution_count": 9,
   "metadata": {
    "tags": []
   },
   "outputs": [
    {
     "data": {
      "image/png": "[encoded data removed]",
      "text/plain": [
       "<Figure size 640x480 with 1 Axes>"
      ]
     },
     "metadata": {},
     "output_type": "display_data"
    }
   ],
   "source": [
    "plt.style.use(\"fivethirtyeight\")\n",
    "plt.plot(range(1, 10), sse)\n",
    "plt.xticks(range(1, 10))\n",
    "plt.xlabel(\"Number of Clusters\")\n",
    "plt.ylabel(\"SSE\")\n",
    "plt.show()"
   ]
  },
  {
   "cell_type": "code",
   "execution_count": 10,
   "metadata": {
    "tags": []
   },
   "outputs": [
    {
     "data": {
      "text/plain": [
       "5"
      ]
     },
     "execution_count": 10,
     "metadata": {},
     "output_type": "execute_result"
    }
   ],
   "source": [
    "## Identifying number of clusters\n",
    "kl = KneeLocator(range(1, 10), sse, curve=\"convex\", direction=\"decreasing\")\n",
    "kl.elbow\n"
   ]
  },
  {
   "cell_type": "code",
   "execution_count": 11,
   "metadata": {
    "tags": []
   },
   "outputs": [
    {
     "name": "stderr",
     "output_type": "stream",
     "text": [
      "/apps/software/standard/core/jupyterlab/3.6.3-py3.11/lib/python3.11/site-packages/sklearn/cluster/_kmeans.py:1412: FutureWarning: The default value of `n_init` will change from 10 to 'auto' in 1.4. Set the value of `n_init` explicitly to suppress the warning\n",
      "  super()._check_params_vs_input(X, default_n_init=10)\n"
     ]
    },
    {
     "name": "stdout",
     "output_type": "stream",
     "text": [
      "Centroids:\n",
      "[[-7.61125268e-02 -1.54782948e-01 -3.18885940e-01 -3.98644878e-01\n",
      "  -4.34647418e-02 -4.93624759e-02 -4.31680821e-02  2.43687919e-01\n",
      "   2.47178760e-01  2.50366284e-01  4.21859396e-03  6.23608373e-01\n",
      "   6.26617338e-01  6.29572997e-01  3.79511099e-03 -2.70871449e-01]\n",
      " [ 8.36866247e+00  8.12285057e+00  6.85453473e+00  2.27781805e-02\n",
      "  -5.66050497e-02 -6.03030413e-02 -9.16243637e-03  2.36743832e-01\n",
      "   2.37539704e-01  2.37826240e-01  7.15407305e-03  5.66251215e-01\n",
      "   5.67506205e-01  5.68043993e-01  6.96537713e-03 -3.38419625e-01]\n",
      " [-2.64238010e-01 -3.74549159e-01  8.75865345e-01  1.03627485e+00\n",
      "   2.33140087e+02  2.30591074e+02  2.31052073e+02  5.55344440e-02\n",
      "   1.72526784e-01  5.05596779e-01  9.12062062e-02  3.16162990e-01\n",
      "   6.05923785e-01  9.53375734e-01  1.49738828e-01  8.06653033e+00]\n",
      " [-2.29090200e-01 -1.85922360e-01  4.58013336e-01  4.96530780e-01\n",
      "   3.27913373e-01  4.07410548e-01  3.69552682e-01  1.69424830e-01\n",
      "   2.20283938e-01  2.76332738e-01  3.07580604e-02  5.35991969e-01\n",
      "   5.97208864e-01  6.63183816e-01  3.60086589e-02  3.69427177e+00]\n",
      " [-1.23169551e-01  1.18108500e-01  5.33805969e-01  1.09876375e+00\n",
      "   4.74489845e-02  4.78810271e-02  3.50384604e-02  2.91013285e-01\n",
      "   3.15054993e-01  3.37586552e-01  1.47525797e-02  6.35677822e-01\n",
      "   6.54488053e-01  6.73843538e-01  1.20144691e-02  1.09129982e-02]]\n",
      "Labels:\n",
      "[0 4 0 ... 0 0 0]\n"
     ]
    }
   ],
   "source": [
    "kmeans = KMeans(n_clusters=kl.elbow)\n",
    "kmeans.fit(clust_feats)\n",
    "\n",
    "centroids = kmeans.cluster_centers_\n",
    "labels = kmeans.labels_\n",
    "\n",
    "print(\"Centroids:\")\n",
    "print(centroids)\n",
    "print(\"Labels:\")\n",
    "print(labels)"
   ]
  },
  {
   "cell_type": "code",
   "execution_count": 12,
   "metadata": {
    "tags": []
   },
   "outputs": [
    {
     "name": "stderr",
     "output_type": "stream",
     "text": [
      "/apps/software/standard/core/jupyterlab/3.6.3-py3.11/lib/python3.11/site-packages/sklearn/cluster/_kmeans.py:1412: FutureWarning: The default value of `n_init` will change from 10 to 'auto' in 1.4. Set the value of `n_init` explicitly to suppress the warning\n",
      "  super()._check_params_vs_input(X, default_n_init=10)\n"
     ]
    }
   ],
   "source": [
    "clusters = kmeans.fit_predict(clust_feats)\n",
    "\n",
    "# dict to store clusters data\n",
    "cluster_dict=[]\n",
    "for c in clusters:\n",
    "    cluster_dict.append(c)\n",
    "\n",
    "# prints the cluster dict\n",
    "#cluster_dict\n",
    "\n",
    "# adds the cluster information as a column in the df\n",
    "feats['cluster'] = cluster_dict\n",
    "\n",
    "# saves the df as a csv\n",
    "feats.to_csv('kmeans_results_scaled.csv', index=False)\n",
    "\n",
    "# shows the resulting df\n",
    "#print(feats)\n",
    "\n",
    "# shows each separate cluster\n",
    "#for c in clusters:\n",
    "    #print(feats[feats['cluster'] == c].head(10))"
   ]
  },
  {
   "cell_type": "markdown",
   "metadata": {},
   "source": [
    "## Doing HBDSCAN "
   ]
  },
  {
   "cell_type": "markdown",
   "metadata": {},
   "source": [
    "Notes: parameters of hdbscan are supposed to be intuitive, consider plotting beforehand for EDA\n",
    "min_samples= if specified and larger, more will be declared as noise\n",
    "cluster_selection_epsilon = attempts to break up micro clusters, use if you want to recognize small clusters but also have clusters that are dense"
   ]
  },
  {
   "cell_type": "markdown",
   "metadata": {
    "tags": []
   },
   "source": [
    "Same pre-processing here"
   ]
  },
  {
   "cell_type": "code",
   "execution_count": 6,
   "metadata": {
    "tags": []
   },
   "outputs": [],
   "source": [
    "## Same preparation with preprocessed data\n",
    "feats = pd.read_csv(\"xgboost_preprocessed_data/xgboost_data_new100.csv\")"
   ]
  },
  {
   "cell_type": "code",
   "execution_count": 7,
   "metadata": {
    "tags": []
   },
   "outputs": [
    {
     "data": {
      "text/plain": [
       "Index(['mmsi', 'occ_num', 'net_name', 'mmsi_length', 'spawn_offshore', 'spoof',\n",
       "       'speed_0', 'speed_med', 'speed_99', 'speed_std', 'dist_med', 'dist_99',\n",
       "       'dist_std', 'x_0', 'x_med', 'x_99', 'x_std', 'y_0', 'y_med', 'y_99',\n",
       "       'y_std', 'red_flags', 'entries'],\n",
       "      dtype='object')"
      ]
     },
     "execution_count": 7,
     "metadata": {},
     "output_type": "execute_result"
    }
   ],
   "source": [
    "cols_to_imp = ['speed_std', 'dist_std', 'x_std', 'y_std']\n",
    "feats[cols_to_imp] = feats[cols_to_imp].fillna(feats[cols_to_imp].mean())\n",
    "feats.columns"
   ]
  },
  {
   "cell_type": "code",
   "execution_count": 8,
   "metadata": {
    "tags": []
   },
   "outputs": [],
   "source": [
    "scaled_colum = ['speed_0',\n",
    "       'speed_med', 'speed_99', 'speed_std', 'dist_med', 'dist_99', 'dist_std']\n",
    "scaler = StandardScaler()\n",
    "scaled_feats = feats.copy()\n",
    "for i in scaled_colum:\n",
    "    scaled_feats[i] = scale(scaled_feats[i])\n",
    "\n",
    "   "
   ]
  },
  {
   "cell_type": "code",
   "execution_count": 9,
   "metadata": {
    "tags": []
   },
   "outputs": [
    {
     "data": {
      "text/html": [
       "<div>\n",
       "<style scoped>\n",
       "    .dataframe tbody tr th:only-of-type {\n",
       "        vertical-align: middle;\n",
       "    }\n",
       "\n",
       "    .dataframe tbody tr th {\n",
       "        vertical-align: top;\n",
       "    }\n",
       "\n",
       "    .dataframe thead th {\n",
       "        text-align: right;\n",
       "    }\n",
       "</style>\n",
       "<table border=\"1\" class=\"dataframe\">\n",
       "  <thead>\n",
       "    <tr style=\"text-align: right;\">\n",
       "      <th></th>\n",
       "      <th>speed_0</th>\n",
       "      <th>speed_med</th>\n",
       "      <th>speed_99</th>\n",
       "      <th>speed_std</th>\n",
       "      <th>dist_med</th>\n",
       "      <th>dist_99</th>\n",
       "      <th>dist_std</th>\n",
       "      <th>x_0</th>\n",
       "      <th>x_med</th>\n",
       "      <th>x_99</th>\n",
       "      <th>x_std</th>\n",
       "      <th>y_0</th>\n",
       "      <th>y_med</th>\n",
       "      <th>y_99</th>\n",
       "      <th>y_std</th>\n",
       "    </tr>\n",
       "  </thead>\n",
       "  <tbody>\n",
       "    <tr>\n",
       "      <th>0</th>\n",
       "      <td>-0.264238</td>\n",
       "      <td>-0.380418</td>\n",
       "      <td>-0.608081</td>\n",
       "      <td>-0.797178</td>\n",
       "      <td>-0.058250</td>\n",
       "      <td>-0.063238</td>\n",
       "      <td>-0.076438</td>\n",
       "      <td>0.133253</td>\n",
       "      <td>0.133253</td>\n",
       "      <td>0.133253</td>\n",
       "      <td>0.000000</td>\n",
       "      <td>0.651053</td>\n",
       "      <td>0.651053</td>\n",
       "      <td>0.651053</td>\n",
       "      <td>0.000000</td>\n",
       "    </tr>\n",
       "    <tr>\n",
       "      <th>1</th>\n",
       "      <td>0.239545</td>\n",
       "      <td>0.429431</td>\n",
       "      <td>0.378932</td>\n",
       "      <td>1.276807</td>\n",
       "      <td>0.269897</td>\n",
       "      <td>0.283699</td>\n",
       "      <td>0.729559</td>\n",
       "      <td>0.037781</td>\n",
       "      <td>0.059676</td>\n",
       "      <td>0.081572</td>\n",
       "      <td>0.030965</td>\n",
       "      <td>0.699434</td>\n",
       "      <td>0.835477</td>\n",
       "      <td>0.971519</td>\n",
       "      <td>0.192393</td>\n",
       "    </tr>\n",
       "    <tr>\n",
       "      <th>2</th>\n",
       "      <td>-0.264238</td>\n",
       "      <td>-0.380418</td>\n",
       "      <td>-0.608081</td>\n",
       "      <td>-0.797178</td>\n",
       "      <td>-0.058250</td>\n",
       "      <td>-0.063238</td>\n",
       "      <td>-0.076438</td>\n",
       "      <td>0.069601</td>\n",
       "      <td>0.069601</td>\n",
       "      <td>0.069601</td>\n",
       "      <td>0.000000</td>\n",
       "      <td>0.200804</td>\n",
       "      <td>0.200804</td>\n",
       "      <td>0.200804</td>\n",
       "      <td>0.000000</td>\n",
       "    </tr>\n",
       "    <tr>\n",
       "      <th>3</th>\n",
       "      <td>-0.264238</td>\n",
       "      <td>-0.380418</td>\n",
       "      <td>-0.608081</td>\n",
       "      <td>-0.797178</td>\n",
       "      <td>1.025515</td>\n",
       "      <td>0.509685</td>\n",
       "      <td>1.010310</td>\n",
       "      <td>0.069601</td>\n",
       "      <td>0.133253</td>\n",
       "      <td>0.133253</td>\n",
       "      <td>0.036749</td>\n",
       "      <td>0.200814</td>\n",
       "      <td>0.651043</td>\n",
       "      <td>0.651053</td>\n",
       "      <td>0.259943</td>\n",
       "    </tr>\n",
       "    <tr>\n",
       "      <th>4</th>\n",
       "      <td>-0.264238</td>\n",
       "      <td>0.417694</td>\n",
       "      <td>0.183586</td>\n",
       "      <td>0.774633</td>\n",
       "      <td>0.620295</td>\n",
       "      <td>5.058441</td>\n",
       "      <td>7.032474</td>\n",
       "      <td>0.069601</td>\n",
       "      <td>0.397178</td>\n",
       "      <td>0.401358</td>\n",
       "      <td>0.091522</td>\n",
       "      <td>0.200814</td>\n",
       "      <td>0.918348</td>\n",
       "      <td>0.969039</td>\n",
       "      <td>0.239350</td>\n",
       "    </tr>\n",
       "  </tbody>\n",
       "</table>\n",
       "</div>"
      ],
      "text/plain": [
       "    speed_0  speed_med  speed_99  speed_std  dist_med   dist_99  dist_std  \\\n",
       "0 -0.264238  -0.380418 -0.608081  -0.797178 -0.058250 -0.063238 -0.076438   \n",
       "1  0.239545   0.429431  0.378932   1.276807  0.269897  0.283699  0.729559   \n",
       "2 -0.264238  -0.380418 -0.608081  -0.797178 -0.058250 -0.063238 -0.076438   \n",
       "3 -0.264238  -0.380418 -0.608081  -0.797178  1.025515  0.509685  1.010310   \n",
       "4 -0.264238   0.417694  0.183586   0.774633  0.620295  5.058441  7.032474   \n",
       "\n",
       "        x_0     x_med      x_99     x_std       y_0     y_med      y_99  \\\n",
       "0  0.133253  0.133253  0.133253  0.000000  0.651053  0.651053  0.651053   \n",
       "1  0.037781  0.059676  0.081572  0.030965  0.699434  0.835477  0.971519   \n",
       "2  0.069601  0.069601  0.069601  0.000000  0.200804  0.200804  0.200804   \n",
       "3  0.069601  0.133253  0.133253  0.036749  0.200814  0.651043  0.651053   \n",
       "4  0.069601  0.397178  0.401358  0.091522  0.200814  0.918348  0.969039   \n",
       "\n",
       "      y_std  \n",
       "0  0.000000  \n",
       "1  0.192393  \n",
       "2  0.000000  \n",
       "3  0.259943  \n",
       "4  0.239350  "
      ]
     },
     "execution_count": 9,
     "metadata": {},
     "output_type": "execute_result"
    }
   ],
   "source": [
    "scaled_feats = pd.DataFrame(scaled_feats, columns = feats.columns)\n",
    "clust_feats = scaled_feats[['speed_0',\n",
    "       'speed_med', 'speed_99', 'speed_std', 'dist_med', 'dist_99', 'dist_std',\n",
    "       'x_0', 'x_med', 'x_99', 'x_std', 'y_0', 'y_med', 'y_99', 'y_std']]\n",
    "clust_feats.head()"
   ]
  },
  {
   "cell_type": "code",
   "execution_count": 10,
   "metadata": {
    "tags": []
   },
   "outputs": [],
   "source": [
    "## Run HDBSCAN for original iteration with min cluster size of 5 and epsilon of 0.5\n",
    "clusterer = hdbscan.HDBSCAN(min_cluster_size = 5, cluster_selection_epsilon = 0.5).fit_predict(clust_feats)"
   ]
  },
  {
   "cell_type": "code",
   "execution_count": 11,
   "metadata": {
    "tags": []
   },
   "outputs": [],
   "source": [
    "#Appending resulting clusters to original pre-processed data and saving as new csv\n",
    "\n",
    "cluster_dict=[]\n",
    "for c in clusterer:\n",
    "    cluster_dict.append(c)\n",
    "\n",
    "# prints the cluster dict\n",
    "#cluster_dict\n",
    "\n",
    "# adds the cluster information as a column in the df\n",
    "feats['cluster'] = cluster_dict\n",
    "\n",
    "feats.to_csv('hdb_results_5new.csv', index=False)"
   ]
  },
  {
   "cell_type": "markdown",
   "metadata": {},
   "source": [
    "Showing some quick stats on the cluster break down (number of clusters and )"
   ]
  },
  {
   "cell_type": "code",
   "execution_count": 14,
   "metadata": {
    "tags": []
   },
   "outputs": [
    {
     "data": {
      "text/plain": [
       "39"
      ]
     },
     "execution_count": 14,
     "metadata": {},
     "output_type": "execute_result"
    }
   ],
   "source": [
    "max(feats.cluster)"
   ]
  },
  {
   "cell_type": "code",
   "execution_count": null,
   "metadata": {},
   "outputs": [],
   "source": []
  },
  {
   "cell_type": "code",
   "execution_count": null,
   "metadata": {},
   "outputs": [],
   "source": []
  }
 ],
 "metadata": {
  "kernelspec": {
   "display_name": "Python 3 (ipykernel)",
   "language": "python",
   "name": "python3"
  },
  "language_info": {
   "codemirror_mode": {
    "name": "ipython",
    "version": 3
   },
   "file_extension": ".py",
   "mimetype": "text/x-python",
   "name": "python",
   "nbconvert_exporter": "python",
   "pygments_lexer": "ipython3",
   "version": "3.11.4"
  }
 },
 "nbformat": 4,
 "nbformat_minor": 4
}
