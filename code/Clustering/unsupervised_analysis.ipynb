{
 "cells": [
  {
   "cell_type": "code",
   "execution_count": 1,
   "id": "969c905b-f9bd-47be-b062-6807a2cd93e7",
   "metadata": {
    "tags": []
   },
   "outputs": [],
   "source": [
    "import pandas as pd\n",
    "import numpy as np\n",
    "import seaborn as sns\n",
    "import matplotlib.pyplot as plt"
   ]
  },
  {
   "cell_type": "code",
   "execution_count": 56,
   "id": "282a0d38-fbda-4523-be4a-002eae57f17e",
   "metadata": {
    "tags": []
   },
   "outputs": [],
   "source": [
    "## Import clustering results\n",
    "kmeans_results = pd.read_csv(\"kmeans_results_scaled.csv\")\n",
    "\n",
    "## These are previous/alternative results\n",
    "hdb_5 = pd.read_csv(\"hdb_results_5s.csv\")\n",
    "hdb_100 = pd.read_csv(\"hdb_results_100.csv\")\n",
    "hdb_noeps = pd.read_csv(\"hdb_results_100noeps.csv\")\n",
    "hdb_subset = pd.read_csv(\"hdb_results_subset100.csv\")"
   ]
  },
  {
   "cell_type": "markdown",
   "id": "133cafc7-b512-4a8f-a620-d7a20116c568",
   "metadata": {
    "tags": []
   },
   "source": [
    "### KMeans Analysis"
   ]
  },
  {
   "cell_type": "code",
   "execution_count": 57,
   "id": "59ad3907-9853-4a83-9155-314c0825039a",
   "metadata": {
    "tags": []
   },
   "outputs": [
    {
     "data": {
      "text/html": [
       "<div>\n",
       "<style scoped>\n",
       "    .dataframe tbody tr th:only-of-type {\n",
       "        vertical-align: middle;\n",
       "    }\n",
       "\n",
       "    .dataframe tbody tr th {\n",
       "        vertical-align: top;\n",
       "    }\n",
       "\n",
       "    .dataframe thead th {\n",
       "        text-align: right;\n",
       "    }\n",
       "</style>\n",
       "<table border=\"1\" class=\"dataframe\">\n",
       "  <thead>\n",
       "    <tr style=\"text-align: right;\">\n",
       "      <th></th>\n",
       "      <th>mmsi</th>\n",
       "      <th>occ_num</th>\n",
       "      <th>net_name</th>\n",
       "      <th>mmsi_length</th>\n",
       "      <th>spawn_offshore</th>\n",
       "      <th>spoof</th>\n",
       "      <th>speed_0</th>\n",
       "      <th>speed_med</th>\n",
       "      <th>speed_99</th>\n",
       "      <th>speed_std</th>\n",
       "      <th>...</th>\n",
       "      <th>x_med</th>\n",
       "      <th>x_99</th>\n",
       "      <th>x_std</th>\n",
       "      <th>y_0</th>\n",
       "      <th>y_med</th>\n",
       "      <th>y_99</th>\n",
       "      <th>y_std</th>\n",
       "      <th>red_flags</th>\n",
       "      <th>entries</th>\n",
       "      <th>cluster</th>\n",
       "    </tr>\n",
       "  </thead>\n",
       "  <tbody>\n",
       "    <tr>\n",
       "      <th>0</th>\n",
       "      <td>0</td>\n",
       "      <td>1</td>\n",
       "      <td>False</td>\n",
       "      <td>True</td>\n",
       "      <td>False</td>\n",
       "      <td>False</td>\n",
       "      <td>0.0</td>\n",
       "      <td>0.0</td>\n",
       "      <td>0.0</td>\n",
       "      <td>0.000000</td>\n",
       "      <td>...</td>\n",
       "      <td>0.133253</td>\n",
       "      <td>0.133253</td>\n",
       "      <td>0.000000</td>\n",
       "      <td>0.651053</td>\n",
       "      <td>0.651053</td>\n",
       "      <td>0.651053</td>\n",
       "      <td>0.000000</td>\n",
       "      <td>1</td>\n",
       "      <td>5</td>\n",
       "      <td>3</td>\n",
       "    </tr>\n",
       "    <tr>\n",
       "      <th>1</th>\n",
       "      <td>0</td>\n",
       "      <td>2</td>\n",
       "      <td>True</td>\n",
       "      <td>True</td>\n",
       "      <td>True</td>\n",
       "      <td>False</td>\n",
       "      <td>4.2</td>\n",
       "      <td>6.9</td>\n",
       "      <td>9.6</td>\n",
       "      <td>3.818377</td>\n",
       "      <td>...</td>\n",
       "      <td>0.059676</td>\n",
       "      <td>0.081572</td>\n",
       "      <td>0.030965</td>\n",
       "      <td>0.699434</td>\n",
       "      <td>0.835477</td>\n",
       "      <td>0.971519</td>\n",
       "      <td>0.192393</td>\n",
       "      <td>3</td>\n",
       "      <td>2</td>\n",
       "      <td>1</td>\n",
       "    </tr>\n",
       "    <tr>\n",
       "      <th>2</th>\n",
       "      <td>0</td>\n",
       "      <td>3</td>\n",
       "      <td>False</td>\n",
       "      <td>True</td>\n",
       "      <td>True</td>\n",
       "      <td>False</td>\n",
       "      <td>0.0</td>\n",
       "      <td>0.0</td>\n",
       "      <td>0.0</td>\n",
       "      <td>0.000000</td>\n",
       "      <td>...</td>\n",
       "      <td>0.069601</td>\n",
       "      <td>0.069601</td>\n",
       "      <td>0.000000</td>\n",
       "      <td>0.200804</td>\n",
       "      <td>0.200804</td>\n",
       "      <td>0.200804</td>\n",
       "      <td>0.000000</td>\n",
       "      <td>2</td>\n",
       "      <td>4</td>\n",
       "      <td>3</td>\n",
       "    </tr>\n",
       "    <tr>\n",
       "      <th>3</th>\n",
       "      <td>0</td>\n",
       "      <td>4</td>\n",
       "      <td>False</td>\n",
       "      <td>True</td>\n",
       "      <td>True</td>\n",
       "      <td>True</td>\n",
       "      <td>0.0</td>\n",
       "      <td>0.0</td>\n",
       "      <td>0.0</td>\n",
       "      <td>0.000000</td>\n",
       "      <td>...</td>\n",
       "      <td>0.133253</td>\n",
       "      <td>0.133253</td>\n",
       "      <td>0.036749</td>\n",
       "      <td>0.200814</td>\n",
       "      <td>0.651043</td>\n",
       "      <td>0.651053</td>\n",
       "      <td>0.259943</td>\n",
       "      <td>3</td>\n",
       "      <td>3</td>\n",
       "      <td>3</td>\n",
       "    </tr>\n",
       "    <tr>\n",
       "      <th>4</th>\n",
       "      <td>0</td>\n",
       "      <td>5</td>\n",
       "      <td>True</td>\n",
       "      <td>True</td>\n",
       "      <td>True</td>\n",
       "      <td>True</td>\n",
       "      <td>0.0</td>\n",
       "      <td>6.8</td>\n",
       "      <td>7.7</td>\n",
       "      <td>2.893832</td>\n",
       "      <td>...</td>\n",
       "      <td>0.397178</td>\n",
       "      <td>0.401358</td>\n",
       "      <td>0.091522</td>\n",
       "      <td>0.200814</td>\n",
       "      <td>0.918348</td>\n",
       "      <td>0.969039</td>\n",
       "      <td>0.239350</td>\n",
       "      <td>4</td>\n",
       "      <td>30</td>\n",
       "      <td>1</td>\n",
       "    </tr>\n",
       "  </tbody>\n",
       "</table>\n",
       "<p>5 rows × 24 columns</p>\n",
       "</div>"
      ],
      "text/plain": [
       "   mmsi  occ_num  net_name  mmsi_length  spawn_offshore  spoof  speed_0  \\\n",
       "0     0        1     False         True           False  False      0.0   \n",
       "1     0        2      True         True            True  False      4.2   \n",
       "2     0        3     False         True            True  False      0.0   \n",
       "3     0        4     False         True            True   True      0.0   \n",
       "4     0        5      True         True            True   True      0.0   \n",
       "\n",
       "   speed_med  speed_99  speed_std  ...     x_med      x_99     x_std  \\\n",
       "0        0.0       0.0   0.000000  ...  0.133253  0.133253  0.000000   \n",
       "1        6.9       9.6   3.818377  ...  0.059676  0.081572  0.030965   \n",
       "2        0.0       0.0   0.000000  ...  0.069601  0.069601  0.000000   \n",
       "3        0.0       0.0   0.000000  ...  0.133253  0.133253  0.036749   \n",
       "4        6.8       7.7   2.893832  ...  0.397178  0.401358  0.091522   \n",
       "\n",
       "        y_0     y_med      y_99     y_std  red_flags  entries  cluster  \n",
       "0  0.651053  0.651053  0.651053  0.000000          1        5        3  \n",
       "1  0.699434  0.835477  0.971519  0.192393          3        2        1  \n",
       "2  0.200804  0.200804  0.200804  0.000000          2        4        3  \n",
       "3  0.200814  0.651043  0.651053  0.259943          3        3        3  \n",
       "4  0.200814  0.918348  0.969039  0.239350          4       30        1  \n",
       "\n",
       "[5 rows x 24 columns]"
      ]
     },
     "execution_count": 57,
     "metadata": {},
     "output_type": "execute_result"
    }
   ],
   "source": [
    "kmeans_results.head()"
   ]
  },
  {
   "cell_type": "code",
   "execution_count": 59,
   "id": "82847081-63f1-4f8f-93af-1b889760e41a",
   "metadata": {
    "tags": []
   },
   "outputs": [
    {
     "data": {
      "text/html": [
       "<div>\n",
       "<style scoped>\n",
       "    .dataframe tbody tr th:only-of-type {\n",
       "        vertical-align: middle;\n",
       "    }\n",
       "\n",
       "    .dataframe tbody tr th {\n",
       "        vertical-align: top;\n",
       "    }\n",
       "\n",
       "    .dataframe thead th {\n",
       "        text-align: right;\n",
       "    }\n",
       "</style>\n",
       "<table border=\"1\" class=\"dataframe\">\n",
       "  <thead>\n",
       "    <tr style=\"text-align: right;\">\n",
       "      <th></th>\n",
       "      <th></th>\n",
       "      <th>proportion</th>\n",
       "    </tr>\n",
       "    <tr>\n",
       "      <th>cluster</th>\n",
       "      <th>red_flags</th>\n",
       "      <th></th>\n",
       "    </tr>\n",
       "  </thead>\n",
       "  <tbody>\n",
       "    <tr>\n",
       "      <th rowspan=\"4\" valign=\"top\">0</th>\n",
       "      <th>1</th>\n",
       "      <td>0.761340</td>\n",
       "    </tr>\n",
       "    <tr>\n",
       "      <th>0</th>\n",
       "      <td>0.221087</td>\n",
       "    </tr>\n",
       "    <tr>\n",
       "      <th>2</th>\n",
       "      <td>0.017164</td>\n",
       "    </tr>\n",
       "    <tr>\n",
       "      <th>3</th>\n",
       "      <td>0.000409</td>\n",
       "    </tr>\n",
       "    <tr>\n",
       "      <th rowspan=\"5\" valign=\"top\">1</th>\n",
       "      <th>1</th>\n",
       "      <td>0.458982</td>\n",
       "    </tr>\n",
       "    <tr>\n",
       "      <th>0</th>\n",
       "      <td>0.259247</td>\n",
       "    </tr>\n",
       "    <tr>\n",
       "      <th>2</th>\n",
       "      <td>0.249071</td>\n",
       "    </tr>\n",
       "    <tr>\n",
       "      <th>3</th>\n",
       "      <td>0.031554</td>\n",
       "    </tr>\n",
       "    <tr>\n",
       "      <th>4</th>\n",
       "      <td>0.001146</td>\n",
       "    </tr>\n",
       "    <tr>\n",
       "      <th>2</th>\n",
       "      <th>1</th>\n",
       "      <td>1.000000</td>\n",
       "    </tr>\n",
       "    <tr>\n",
       "      <th rowspan=\"5\" valign=\"top\">3</th>\n",
       "      <th>1</th>\n",
       "      <td>0.363700</td>\n",
       "    </tr>\n",
       "    <tr>\n",
       "      <th>2</th>\n",
       "      <td>0.331613</td>\n",
       "    </tr>\n",
       "    <tr>\n",
       "      <th>0</th>\n",
       "      <td>0.215461</td>\n",
       "    </tr>\n",
       "    <tr>\n",
       "      <th>3</th>\n",
       "      <td>0.088019</td>\n",
       "    </tr>\n",
       "    <tr>\n",
       "      <th>4</th>\n",
       "      <td>0.001207</td>\n",
       "    </tr>\n",
       "    <tr>\n",
       "      <th rowspan=\"5\" valign=\"top\">4</th>\n",
       "      <th>0</th>\n",
       "      <td>0.474100</td>\n",
       "    </tr>\n",
       "    <tr>\n",
       "      <th>1</th>\n",
       "      <td>0.425855</td>\n",
       "    </tr>\n",
       "    <tr>\n",
       "      <th>2</th>\n",
       "      <td>0.099334</td>\n",
       "    </tr>\n",
       "    <tr>\n",
       "      <th>3</th>\n",
       "      <td>0.000622</td>\n",
       "    </tr>\n",
       "    <tr>\n",
       "      <th>4</th>\n",
       "      <td>0.000089</td>\n",
       "    </tr>\n",
       "  </tbody>\n",
       "</table>\n",
       "</div>"
      ],
      "text/plain": [
       "                   proportion\n",
       "cluster red_flags            \n",
       "0       1            0.761340\n",
       "        0            0.221087\n",
       "        2            0.017164\n",
       "        3            0.000409\n",
       "1       1            0.458982\n",
       "        0            0.259247\n",
       "        2            0.249071\n",
       "        3            0.031554\n",
       "        4            0.001146\n",
       "2       1            1.000000\n",
       "3       1            0.363700\n",
       "        2            0.331613\n",
       "        0            0.215461\n",
       "        3            0.088019\n",
       "        4            0.001207\n",
       "4       0            0.474100\n",
       "        1            0.425855\n",
       "        2            0.099334\n",
       "        3            0.000622\n",
       "        4            0.000089"
      ]
     },
     "execution_count": 59,
     "metadata": {},
     "output_type": "execute_result"
    }
   ],
   "source": [
    "## Showing breakdown of flags per cluster\n",
    "flag_by_clust = pd.DataFrame(kmeans_results.groupby('cluster').red_flags.value_counts(normalize=True))\n",
    "flag_by_clust"
   ]
  },
  {
   "cell_type": "code",
   "execution_count": 60,
   "id": "f30e2fca-1a39-464c-b536-97f8b769a2d7",
   "metadata": {
    "tags": []
   },
   "outputs": [],
   "source": [
    "flag_by_clust = flag_by_clust.reset_index()"
   ]
  },
  {
   "cell_type": "code",
   "execution_count": 61,
   "id": "a479dd7a-10ea-4bee-9876-d6acd494aee9",
   "metadata": {
    "tags": []
   },
   "outputs": [
    {
     "data": {
      "text/plain": [
       "<Axes: xlabel='cluster', ylabel='proportion'>"
      ]
     },
     "execution_count": 61,
     "metadata": {},
     "output_type": "execute_result"
    },
    {
     "data": {
      "image/png": "[encoded data removed]",
      "text/plain": [
       "<Figure size 640x480 with 1 Axes>"
      ]
     },
     "metadata": {},
     "output_type": "display_data"
    }
   ],
   "source": [
    "## Showing breakdown of flags per cluster\n",
    "sns.barplot(flag_by_clust, x=\"cluster\", y=\"proportion\", hue=\"red_flags\")\n"
   ]
  },
  {
   "cell_type": "code",
   "execution_count": 69,
   "id": "24757854-a64d-4061-bc37-97cd90c18e49",
   "metadata": {
    "tags": []
   },
   "outputs": [
    {
     "data": {
      "text/html": [
       "<div>\n",
       "<style scoped>\n",
       "    .dataframe tbody tr th:only-of-type {\n",
       "        vertical-align: middle;\n",
       "    }\n",
       "\n",
       "    .dataframe tbody tr th {\n",
       "        vertical-align: top;\n",
       "    }\n",
       "\n",
       "    .dataframe thead th {\n",
       "        text-align: right;\n",
       "    }\n",
       "</style>\n",
       "<table border=\"1\" class=\"dataframe\">\n",
       "  <thead>\n",
       "    <tr style=\"text-align: right;\">\n",
       "      <th></th>\n",
       "      <th>cluster</th>\n",
       "      <th>net_name</th>\n",
       "      <th>count</th>\n",
       "    </tr>\n",
       "  </thead>\n",
       "  <tbody>\n",
       "    <tr>\n",
       "      <th>0</th>\n",
       "      <td>0</td>\n",
       "      <td>False</td>\n",
       "      <td>2420</td>\n",
       "    </tr>\n",
       "    <tr>\n",
       "      <th>1</th>\n",
       "      <td>0</td>\n",
       "      <td>True</td>\n",
       "      <td>27</td>\n",
       "    </tr>\n",
       "    <tr>\n",
       "      <th>2</th>\n",
       "      <td>1</td>\n",
       "      <td>False</td>\n",
       "      <td>43183</td>\n",
       "    </tr>\n",
       "    <tr>\n",
       "      <th>3</th>\n",
       "      <td>1</td>\n",
       "      <td>True</td>\n",
       "      <td>7429</td>\n",
       "    </tr>\n",
       "    <tr>\n",
       "      <th>4</th>\n",
       "      <td>2</td>\n",
       "      <td>False</td>\n",
       "      <td>3</td>\n",
       "    </tr>\n",
       "    <tr>\n",
       "      <th>5</th>\n",
       "      <td>3</td>\n",
       "      <td>False</td>\n",
       "      <td>99374</td>\n",
       "    </tr>\n",
       "    <tr>\n",
       "      <th>6</th>\n",
       "      <td>3</td>\n",
       "      <td>True</td>\n",
       "      <td>53865</td>\n",
       "    </tr>\n",
       "    <tr>\n",
       "      <th>7</th>\n",
       "      <td>4</td>\n",
       "      <td>False</td>\n",
       "      <td>11214</td>\n",
       "    </tr>\n",
       "    <tr>\n",
       "      <th>8</th>\n",
       "      <td>4</td>\n",
       "      <td>True</td>\n",
       "      <td>41</td>\n",
       "    </tr>\n",
       "  </tbody>\n",
       "</table>\n",
       "</div>"
      ],
      "text/plain": [
       "   cluster  net_name  count\n",
       "0        0     False   2420\n",
       "1        0      True     27\n",
       "2        1     False  43183\n",
       "3        1      True   7429\n",
       "4        2     False      3\n",
       "5        3     False  99374\n",
       "6        3      True  53865\n",
       "7        4     False  11214\n",
       "8        4      True     41"
      ]
     },
     "execution_count": 69,
     "metadata": {},
     "output_type": "execute_result"
    }
   ],
   "source": [
    "## Showing variational density of each cluster by whether they have a good or bad name\n",
    "name_by_clust = pd.DataFrame(kmeans_results.groupby('cluster').net_name.value_counts(normalize = False))\n",
    "name_by_clust = name_by_clust.reset_index()\n",
    "name_by_clust"
   ]
  },
  {
   "cell_type": "code",
   "execution_count": 63,
   "id": "cd586964-c5e9-44bd-917a-e1b5b18c02c2",
   "metadata": {
    "tags": []
   },
   "outputs": [
    {
     "data": {
      "text/plain": [
       "<Axes: xlabel='cluster', ylabel='proportion'>"
      ]
     },
     "execution_count": 63,
     "metadata": {},
     "output_type": "execute_result"
    },
    {
     "data": {
      "image/png": "[encoded data removed]",
      "text/plain": [
       "<Figure size 640x480 with 1 Axes>"
      ]
     },
     "metadata": {},
     "output_type": "display_data"
    }
   ],
   "source": [
    "## Showing cluster break down by bad vessel name\n",
    "sns.barplot(name_by_clust, x=\"cluster\", y=\"proportion\", hue=\"net_name\")"
   ]
  },
  {
   "cell_type": "code",
   "execution_count": 64,
   "id": "86f4e8f7-14d7-405a-9379-1274e9099e9d",
   "metadata": {},
   "outputs": [
    {
     "data": {
      "text/plain": [
       "<Axes: xlabel='net_name', ylabel='red_flags'>"
      ]
     },
     "execution_count": 64,
     "metadata": {},
     "output_type": "execute_result"
    },
    {
     "data": {
      "image/png": "[encoded data removed]",
      "text/plain": [
       "<Figure size 640x480 with 1 Axes>"
      ]
     },
     "metadata": {},
     "output_type": "display_data"
    }
   ],
   "source": [
    "sns.barplot(kmeans_results, x=\"net_name\", y=\"red_flags\", hue=\"cluster\")"
   ]
  },
  {
   "cell_type": "code",
   "execution_count": 65,
   "id": "7ae2b897-061e-4ddc-9fc4-68d3e79fd05e",
   "metadata": {
    "tags": []
   },
   "outputs": [
    {
     "data": {
      "text/plain": [
       "net_name\n",
       "False    156194\n",
       "True      61362\n",
       "Name: count, dtype: int64"
      ]
     },
     "execution_count": 65,
     "metadata": {},
     "output_type": "execute_result"
    }
   ],
   "source": [
    "kmeans_results.net_name.value_counts()"
   ]
  },
  {
   "cell_type": "code",
   "execution_count": 66,
   "id": "ea2153c6-5d09-4d78-9c27-40cf1f553abb",
   "metadata": {
    "tags": []
   },
   "outputs": [
    {
     "data": {
      "text/plain": [
       "red_flags\n",
       "1    85622\n",
       "2    64582\n",
       "0    52015\n",
       "3    15093\n",
       "4      244\n",
       "Name: count, dtype: int64"
      ]
     },
     "execution_count": 66,
     "metadata": {},
     "output_type": "execute_result"
    }
   ],
   "source": [
    "kmeans_results.red_flags.value_counts()"
   ]
  },
  {
   "cell_type": "code",
   "execution_count": 67,
   "id": "51dbedcf-5a70-4e0f-b161-14814e32ca6f",
   "metadata": {
    "tags": []
   },
   "outputs": [
    {
     "data": {
      "text/plain": [
       "<Axes: xlabel='cluster', ylabel='red_flags'>"
      ]
     },
     "execution_count": 67,
     "metadata": {},
     "output_type": "execute_result"
    },
    {
     "data": {
      "image/png": "[encoded data removed]",
      "text/plain": [
       "<Figure size 640x480 with 1 Axes>"
      ]
     },
     "metadata": {},
     "output_type": "display_data"
    }
   ],
   "source": [
    "sns.barplot(x = 'cluster',\n",
    "            y = 'red_flags',\n",
    "            hue = 'net_name',\n",
    "            data = kmeans_results,\n",
    "            palette = \"Blues\")"
   ]
  },
  {
   "cell_type": "markdown",
   "id": "7d990f62-91ae-49f6-adca-79715d97495b",
   "metadata": {},
   "source": [
    "### HDBSCAN ANALYSIS"
   ]
  },
  {
   "cell_type": "code",
   "execution_count": null,
   "id": "5452d0b7-a104-4e08-9d22-989a97ebdf55",
   "metadata": {},
   "outputs": [],
   "source": [
    "## Alternative Attempts for reference\n",
    "hdb_5 = pd.read_csv(\"hdb_results_5s.csv\") #constructed with 5 min cluster size and .5 epsilon\n",
    "hdb_100 = pd.read_csv(\"hdb_results_100.csv\") #constructed with 100 min cluster size and .5 epsilon\n",
    "hdb_noeps = pd.read_csv(\"hdb_results_100noeps.csv\") #constructed with 100 min cluster and no epsilon\n",
    "hdb_subset = pd.read_csv(\"hdb_results_subset100.csv\") #constructed with mmsi, spoof, and spawn as included features\n"
   ]
  },
  {
   "cell_type": "code",
   "execution_count": 3,
   "id": "ed3f4672-3399-43d4-a25d-a596c24addd7",
   "metadata": {
    "tags": []
   },
   "outputs": [],
   "source": [
    "## These are the HDBSCAN cluster results used \n",
    "hdb_new = pd.read_csv(\"hdb_results_5new.csv\")"
   ]
  },
  {
   "cell_type": "code",
   "execution_count": null,
   "id": "4c1ce329-019c-4b0d-961a-0ecf0b4928a6",
   "metadata": {},
   "outputs": [],
   "source": [
    "# Analysis from alternative results"
   ]
  },
  {
   "cell_type": "code",
   "execution_count": 21,
   "id": "9db87a38-cd4e-44b0-9441-9b527f761277",
   "metadata": {
    "tags": []
   },
   "outputs": [
    {
     "data": {
      "text/plain": [
       "<Axes: xlabel='cluster', ylabel='proportion'>"
      ]
     },
     "execution_count": 21,
     "metadata": {},
     "output_type": "execute_result"
    },
    {
     "data": {
      "image/png": "[encoded data removed]",
      "text/plain": [
       "<Figure size 640x480 with 1 Axes>"
      ]
     },
     "metadata": {},
     "output_type": "display_data"
    }
   ],
   "source": [
    "\n",
    "hdb1 = pd.DataFrame(hdb_100.groupby('cluster').red_flags.value_counts(normalize=True))\n",
    "hdb1 = hdb1.reset_index()\n",
    "sns.barplot(hdb1, x=\"cluster\", y=\"proportion\", hue=\"red_flags\")\n"
   ]
  },
  {
   "cell_type": "code",
   "execution_count": 22,
   "id": "2bf109fc-b663-4462-822e-68e84d0abc58",
   "metadata": {
    "tags": []
   },
   "outputs": [
    {
     "data": {
      "text/plain": [
       "<Axes: xlabel='cluster', ylabel='proportion'>"
      ]
     },
     "execution_count": 22,
     "metadata": {},
     "output_type": "execute_result"
    },
    {
     "data": {
      "image/png": "[encoded data removed]",
      "text/plain": [
       "<Figure size 640x480 with 1 Axes>"
      ]
     },
     "metadata": {},
     "output_type": "display_data"
    }
   ],
   "source": [
    "hdb1_nets = pd.DataFrame(hdb_100.groupby('cluster').net_name.value_counts(normalize = True))\n",
    "hdb1_nets = hdb1_nets.reset_index()\n",
    "sns.barplot(hdb1_nets, x=\"cluster\", y=\"proportion\", hue=\"net_name\")"
   ]
  },
  {
   "cell_type": "code",
   "execution_count": 23,
   "id": "0fd18ccd-9b4d-4a3c-b40f-0d3531756e0f",
   "metadata": {
    "tags": []
   },
   "outputs": [
    {
     "data": {
      "text/plain": [
       "<Axes: xlabel='net_name', ylabel='red_flags'>"
      ]
     },
     "execution_count": 23,
     "metadata": {},
     "output_type": "execute_result"
    },
    {
     "data": {
      "image/png": "[encoded data removed]",
      "text/plain": [
       "<Figure size 640x480 with 1 Axes>"
      ]
     },
     "metadata": {},
     "output_type": "display_data"
    }
   ],
   "source": [
    "sns.barplot(hdb_100, x=\"net_name\", y=\"red_flags\", hue=\"cluster\")"
   ]
  },
  {
   "cell_type": "markdown",
   "id": "95f371a7-b3cc-4093-8be5-a02030f3cce6",
   "metadata": {},
   "source": [
    "### Start: Brief analysis of first HDBSCAN model "
   ]
  },
  {
   "cell_type": "code",
   "execution_count": 3,
   "id": "07b8d887-2088-43f4-8867-364cfcab9eb4",
   "metadata": {
    "tags": []
   },
   "outputs": [
    {
     "data": {
      "text/plain": [
       "<Axes: xlabel='cluster', ylabel='proportion'>"
      ]
     },
     "execution_count": 3,
     "metadata": {},
     "output_type": "execute_result"
    },
    {
     "data": {
      "image/png": "[encoded data removed]",
      "text/plain": [
       "<Figure size 640x480 with 1 Axes>"
      ]
     },
     "metadata": {},
     "output_type": "display_data"
    }
   ],
   "source": [
    "hdb3_nets = pd.DataFrame(hdb_new.groupby('cluster').net_name.value_counts(normalize = True))\n",
    "hdb3_nets = hdb3_nets.reset_index()\n",
    "sns.barplot(hdb3_nets, x=\"cluster\", y=\"proportion\", hue=\"net_name\")"
   ]
  },
  {
   "cell_type": "code",
   "execution_count": 4,
   "id": "8fdd8e99-32a9-4b65-ae5b-d9a86ca1ada3",
   "metadata": {
    "tags": []
   },
   "outputs": [
    {
     "data": {
      "text/plain": [
       "<Axes: xlabel='cluster', ylabel='proportion'>"
      ]
     },
     "execution_count": 4,
     "metadata": {},
     "output_type": "execute_result"
    },
    {
     "data": {
      "image/png": "[encoded data removed]",
      "text/plain": [
       "<Figure size 640x480 with 1 Axes>"
      ]
     },
     "metadata": {},
     "output_type": "display_data"
    }
   ],
   "source": [
    "test = hdb3_nets.query(\"net_name == False & proportion == 1\")\n",
    "legals = test.cluster.unique()\n",
    "test1 = hdb3_nets.query(\"net_name == True\")\n",
    "sns.barplot(test1, x=\"cluster\", y=\"proportion\")"
   ]
  },
  {
   "cell_type": "code",
   "execution_count": 5,
   "id": "777daded-ce94-42f3-8a2d-67ee1d383d84",
   "metadata": {
    "tags": []
   },
   "outputs": [
    {
     "data": {
      "text/html": [
       "<div>\n",
       "<style scoped>\n",
       "    .dataframe tbody tr th:only-of-type {\n",
       "        vertical-align: middle;\n",
       "    }\n",
       "\n",
       "    .dataframe tbody tr th {\n",
       "        vertical-align: top;\n",
       "    }\n",
       "\n",
       "    .dataframe thead th {\n",
       "        text-align: right;\n",
       "    }\n",
       "</style>\n",
       "<table border=\"1\" class=\"dataframe\">\n",
       "  <thead>\n",
       "    <tr style=\"text-align: right;\">\n",
       "      <th></th>\n",
       "      <th>cluster</th>\n",
       "      <th>net_name</th>\n",
       "      <th>proportion</th>\n",
       "    </tr>\n",
       "  </thead>\n",
       "  <tbody>\n",
       "    <tr>\n",
       "      <th>49</th>\n",
       "      <td>34</td>\n",
       "      <td>True</td>\n",
       "      <td>0.533333</td>\n",
       "    </tr>\n",
       "  </tbody>\n",
       "</table>\n",
       "</div>"
      ],
      "text/plain": [
       "    cluster  net_name  proportion\n",
       "49       34      True    0.533333"
      ]
     },
     "execution_count": 5,
     "metadata": {},
     "output_type": "execute_result"
    }
   ],
   "source": [
    "test1.query(\"proportion> 0.5\")"
   ]
  },
  {
   "cell_type": "code",
   "execution_count": 6,
   "id": "717f2cb2-1cd5-4032-bfda-f62debb8ddf4",
   "metadata": {
    "tags": []
   },
   "outputs": [
    {
     "data": {
      "text/plain": [
       "<Axes: xlabel='cluster', ylabel='proportion'>"
      ]
     },
     "execution_count": 6,
     "metadata": {},
     "output_type": "execute_result"
    },
    {
     "data": {
      "image/png": "[encoded data removed]",
      "text/plain": [
       "<Figure size 640x480 with 1 Axes>"
      ]
     },
     "metadata": {},
     "output_type": "display_data"
    }
   ],
   "source": [
    "hdb3_flags = pd.DataFrame(hdb_new.groupby('cluster').red_flags.value_counts(normalize = True))\n",
    "hdb3_flags = hdb3_flags.reset_index()\n",
    "sns.barplot(hdb3_flags, x=\"cluster\", y=\"proportion\", hue=\"red_flags\")"
   ]
  },
  {
   "cell_type": "markdown",
   "id": "d4be29d7-34ac-41e2-8111-038839b88356",
   "metadata": {},
   "source": [
    "### Creating new_score to include in next iteration"
   ]
  },
  {
   "cell_type": "code",
   "execution_count": null,
   "id": "9add148b-5ab4-45f3-a27b-7d61ac42f281",
   "metadata": {},
   "outputs": [],
   "source": [
    "# Creating new column (new 'red flag' score), 'sus' represents new score that omitts net_name"
   ]
  },
  {
   "cell_type": "code",
   "execution_count": 7,
   "id": "d3b67f34-fc11-499a-88a9-bfed527f1889",
   "metadata": {
    "tags": []
   },
   "outputs": [
    {
     "data": {
      "text/html": [
       "<div>\n",
       "<style scoped>\n",
       "    .dataframe tbody tr th:only-of-type {\n",
       "        vertical-align: middle;\n",
       "    }\n",
       "\n",
       "    .dataframe tbody tr th {\n",
       "        vertical-align: top;\n",
       "    }\n",
       "\n",
       "    .dataframe thead th {\n",
       "        text-align: right;\n",
       "    }\n",
       "</style>\n",
       "<table border=\"1\" class=\"dataframe\">\n",
       "  <thead>\n",
       "    <tr style=\"text-align: right;\">\n",
       "      <th></th>\n",
       "      <th>mmsi</th>\n",
       "      <th>occ_num</th>\n",
       "      <th>net_name</th>\n",
       "      <th>mmsi_length</th>\n",
       "      <th>spawn_offshore</th>\n",
       "      <th>spoof</th>\n",
       "      <th>speed_0</th>\n",
       "      <th>speed_med</th>\n",
       "      <th>speed_99</th>\n",
       "      <th>speed_std</th>\n",
       "      <th>...</th>\n",
       "      <th>x_99</th>\n",
       "      <th>x_std</th>\n",
       "      <th>y_0</th>\n",
       "      <th>y_med</th>\n",
       "      <th>y_99</th>\n",
       "      <th>y_std</th>\n",
       "      <th>red_flags</th>\n",
       "      <th>entries</th>\n",
       "      <th>cluster</th>\n",
       "      <th>sus</th>\n",
       "    </tr>\n",
       "  </thead>\n",
       "  <tbody>\n",
       "    <tr>\n",
       "      <th>0</th>\n",
       "      <td>0</td>\n",
       "      <td>1</td>\n",
       "      <td>False</td>\n",
       "      <td>True</td>\n",
       "      <td>False</td>\n",
       "      <td>False</td>\n",
       "      <td>0.0</td>\n",
       "      <td>0.0</td>\n",
       "      <td>0.0</td>\n",
       "      <td>0.000000</td>\n",
       "      <td>...</td>\n",
       "      <td>0.133253</td>\n",
       "      <td>0.000000</td>\n",
       "      <td>0.651053</td>\n",
       "      <td>0.651053</td>\n",
       "      <td>0.651053</td>\n",
       "      <td>0.000000</td>\n",
       "      <td>1</td>\n",
       "      <td>5</td>\n",
       "      <td>39</td>\n",
       "      <td>1</td>\n",
       "    </tr>\n",
       "    <tr>\n",
       "      <th>1</th>\n",
       "      <td>0</td>\n",
       "      <td>2</td>\n",
       "      <td>True</td>\n",
       "      <td>True</td>\n",
       "      <td>True</td>\n",
       "      <td>False</td>\n",
       "      <td>4.2</td>\n",
       "      <td>6.9</td>\n",
       "      <td>9.6</td>\n",
       "      <td>3.818377</td>\n",
       "      <td>...</td>\n",
       "      <td>0.081572</td>\n",
       "      <td>0.030965</td>\n",
       "      <td>0.699434</td>\n",
       "      <td>0.835477</td>\n",
       "      <td>0.971519</td>\n",
       "      <td>0.192393</td>\n",
       "      <td>3</td>\n",
       "      <td>2</td>\n",
       "      <td>-1</td>\n",
       "      <td>2</td>\n",
       "    </tr>\n",
       "    <tr>\n",
       "      <th>2</th>\n",
       "      <td>0</td>\n",
       "      <td>3</td>\n",
       "      <td>False</td>\n",
       "      <td>True</td>\n",
       "      <td>True</td>\n",
       "      <td>False</td>\n",
       "      <td>0.0</td>\n",
       "      <td>0.0</td>\n",
       "      <td>0.0</td>\n",
       "      <td>0.000000</td>\n",
       "      <td>...</td>\n",
       "      <td>0.069601</td>\n",
       "      <td>0.000000</td>\n",
       "      <td>0.200804</td>\n",
       "      <td>0.200804</td>\n",
       "      <td>0.200804</td>\n",
       "      <td>0.000000</td>\n",
       "      <td>2</td>\n",
       "      <td>4</td>\n",
       "      <td>39</td>\n",
       "      <td>2</td>\n",
       "    </tr>\n",
       "    <tr>\n",
       "      <th>3</th>\n",
       "      <td>0</td>\n",
       "      <td>4</td>\n",
       "      <td>False</td>\n",
       "      <td>True</td>\n",
       "      <td>True</td>\n",
       "      <td>True</td>\n",
       "      <td>0.0</td>\n",
       "      <td>0.0</td>\n",
       "      <td>0.0</td>\n",
       "      <td>0.000000</td>\n",
       "      <td>...</td>\n",
       "      <td>0.133253</td>\n",
       "      <td>0.036749</td>\n",
       "      <td>0.200814</td>\n",
       "      <td>0.651043</td>\n",
       "      <td>0.651053</td>\n",
       "      <td>0.259943</td>\n",
       "      <td>3</td>\n",
       "      <td>3</td>\n",
       "      <td>-1</td>\n",
       "      <td>3</td>\n",
       "    </tr>\n",
       "    <tr>\n",
       "      <th>4</th>\n",
       "      <td>0</td>\n",
       "      <td>5</td>\n",
       "      <td>True</td>\n",
       "      <td>True</td>\n",
       "      <td>True</td>\n",
       "      <td>True</td>\n",
       "      <td>0.0</td>\n",
       "      <td>6.8</td>\n",
       "      <td>7.7</td>\n",
       "      <td>2.893832</td>\n",
       "      <td>...</td>\n",
       "      <td>0.401358</td>\n",
       "      <td>0.091522</td>\n",
       "      <td>0.200814</td>\n",
       "      <td>0.918348</td>\n",
       "      <td>0.969039</td>\n",
       "      <td>0.239350</td>\n",
       "      <td>4</td>\n",
       "      <td>30</td>\n",
       "      <td>-1</td>\n",
       "      <td>3</td>\n",
       "    </tr>\n",
       "  </tbody>\n",
       "</table>\n",
       "<p>5 rows × 25 columns</p>\n",
       "</div>"
      ],
      "text/plain": [
       "   mmsi  occ_num  net_name  mmsi_length  spawn_offshore  spoof  speed_0  \\\n",
       "0     0        1     False         True           False  False      0.0   \n",
       "1     0        2      True         True            True  False      4.2   \n",
       "2     0        3     False         True            True  False      0.0   \n",
       "3     0        4     False         True            True   True      0.0   \n",
       "4     0        5      True         True            True   True      0.0   \n",
       "\n",
       "   speed_med  speed_99  speed_std  ...      x_99     x_std       y_0  \\\n",
       "0        0.0       0.0   0.000000  ...  0.133253  0.000000  0.651053   \n",
       "1        6.9       9.6   3.818377  ...  0.081572  0.030965  0.699434   \n",
       "2        0.0       0.0   0.000000  ...  0.069601  0.000000  0.200804   \n",
       "3        0.0       0.0   0.000000  ...  0.133253  0.036749  0.200814   \n",
       "4        6.8       7.7   2.893832  ...  0.401358  0.091522  0.200814   \n",
       "\n",
       "      y_med      y_99     y_std  red_flags  entries  cluster  sus  \n",
       "0  0.651053  0.651053  0.000000          1        5       39    1  \n",
       "1  0.835477  0.971519  0.192393          3        2       -1    2  \n",
       "2  0.200804  0.200804  0.000000          2        4       39    2  \n",
       "3  0.651043  0.651053  0.259943          3        3       -1    3  \n",
       "4  0.918348  0.969039  0.239350          4       30       -1    3  \n",
       "\n",
       "[5 rows x 25 columns]"
      ]
     },
     "execution_count": 7,
     "metadata": {},
     "output_type": "execute_result"
    }
   ],
   "source": [
    "hdb_new['sus'] = hdb_new['mmsi_length'].astype('int')+hdb_new['spawn_offshore'].astype('int')+hdb_new['spoof'].astype('int')\n",
    "hdb_new.head()"
   ]
  },
  {
   "cell_type": "code",
   "execution_count": 8,
   "id": "d6d06ffd-a930-4a8f-ac85-f65e99ca6015",
   "metadata": {
    "tags": []
   },
   "outputs": [
    {
     "data": {
      "text/html": [
       "<div>\n",
       "<style scoped>\n",
       "    .dataframe tbody tr th:only-of-type {\n",
       "        vertical-align: middle;\n",
       "    }\n",
       "\n",
       "    .dataframe tbody tr th {\n",
       "        vertical-align: top;\n",
       "    }\n",
       "\n",
       "    .dataframe thead th {\n",
       "        text-align: right;\n",
       "    }\n",
       "</style>\n",
       "<table border=\"1\" class=\"dataframe\">\n",
       "  <thead>\n",
       "    <tr style=\"text-align: right;\">\n",
       "      <th></th>\n",
       "      <th>cluster</th>\n",
       "      <th>avgflag</th>\n",
       "    </tr>\n",
       "  </thead>\n",
       "  <tbody>\n",
       "    <tr>\n",
       "      <th>0</th>\n",
       "      <td>-1</td>\n",
       "      <td>1.178479</td>\n",
       "    </tr>\n",
       "    <tr>\n",
       "      <th>1</th>\n",
       "      <td>0</td>\n",
       "      <td>1.000000</td>\n",
       "    </tr>\n",
       "    <tr>\n",
       "      <th>2</th>\n",
       "      <td>1</td>\n",
       "      <td>0.714286</td>\n",
       "    </tr>\n",
       "    <tr>\n",
       "      <th>3</th>\n",
       "      <td>2</td>\n",
       "      <td>0.750000</td>\n",
       "    </tr>\n",
       "    <tr>\n",
       "      <th>4</th>\n",
       "      <td>3</td>\n",
       "      <td>0.750000</td>\n",
       "    </tr>\n",
       "  </tbody>\n",
       "</table>\n",
       "</div>"
      ],
      "text/plain": [
       "   cluster   avgflag\n",
       "0       -1  1.178479\n",
       "1        0  1.000000\n",
       "2        1  0.714286\n",
       "3        2  0.750000\n",
       "4        3  0.750000"
      ]
     },
     "execution_count": 8,
     "metadata": {},
     "output_type": "execute_result"
    }
   ],
   "source": [
    "## Finding the average red_flag score for each cluster\n",
    "avg = pd.DataFrame(hdb_new.groupby('cluster').red_flags.mean())\n",
    "updated = hdb_new.copy()\n",
    "avg = avg.reset_index()\n",
    "avg.columns = ['cluster', 'avgflag']\n",
    "avg.head()"
   ]
  },
  {
   "cell_type": "code",
   "execution_count": 9,
   "id": "3a89e981-ea6a-4627-9f70-d8c1ce8309cf",
   "metadata": {
    "tags": []
   },
   "outputs": [
    {
     "data": {
      "text/html": [
       "<div>\n",
       "<style scoped>\n",
       "    .dataframe tbody tr th:only-of-type {\n",
       "        vertical-align: middle;\n",
       "    }\n",
       "\n",
       "    .dataframe tbody tr th {\n",
       "        vertical-align: top;\n",
       "    }\n",
       "\n",
       "    .dataframe thead th {\n",
       "        text-align: right;\n",
       "    }\n",
       "</style>\n",
       "<table border=\"1\" class=\"dataframe\">\n",
       "  <thead>\n",
       "    <tr style=\"text-align: right;\">\n",
       "      <th></th>\n",
       "      <th>mmsi</th>\n",
       "      <th>occ_num</th>\n",
       "      <th>net_name</th>\n",
       "      <th>mmsi_length</th>\n",
       "      <th>spawn_offshore</th>\n",
       "      <th>spoof</th>\n",
       "      <th>speed_0</th>\n",
       "      <th>speed_med</th>\n",
       "      <th>speed_99</th>\n",
       "      <th>speed_std</th>\n",
       "      <th>...</th>\n",
       "      <th>y_0</th>\n",
       "      <th>y_med</th>\n",
       "      <th>y_99</th>\n",
       "      <th>y_std</th>\n",
       "      <th>red_flags</th>\n",
       "      <th>entries</th>\n",
       "      <th>cluster</th>\n",
       "      <th>sus</th>\n",
       "      <th>avgflag</th>\n",
       "      <th>new_score</th>\n",
       "    </tr>\n",
       "  </thead>\n",
       "  <tbody>\n",
       "    <tr>\n",
       "      <th>0</th>\n",
       "      <td>0</td>\n",
       "      <td>1</td>\n",
       "      <td>False</td>\n",
       "      <td>True</td>\n",
       "      <td>False</td>\n",
       "      <td>False</td>\n",
       "      <td>0.0</td>\n",
       "      <td>0.0</td>\n",
       "      <td>0.0</td>\n",
       "      <td>0.000000</td>\n",
       "      <td>...</td>\n",
       "      <td>0.651053</td>\n",
       "      <td>0.651053</td>\n",
       "      <td>0.651053</td>\n",
       "      <td>0.000000</td>\n",
       "      <td>1</td>\n",
       "      <td>5</td>\n",
       "      <td>39</td>\n",
       "      <td>1</td>\n",
       "      <td>1.205144</td>\n",
       "      <td>2.205144</td>\n",
       "    </tr>\n",
       "    <tr>\n",
       "      <th>1</th>\n",
       "      <td>0</td>\n",
       "      <td>2</td>\n",
       "      <td>True</td>\n",
       "      <td>True</td>\n",
       "      <td>True</td>\n",
       "      <td>False</td>\n",
       "      <td>4.2</td>\n",
       "      <td>6.9</td>\n",
       "      <td>9.6</td>\n",
       "      <td>3.818377</td>\n",
       "      <td>...</td>\n",
       "      <td>0.699434</td>\n",
       "      <td>0.835477</td>\n",
       "      <td>0.971519</td>\n",
       "      <td>0.192393</td>\n",
       "      <td>3</td>\n",
       "      <td>2</td>\n",
       "      <td>-1</td>\n",
       "      <td>2</td>\n",
       "      <td>1.178479</td>\n",
       "      <td>4.178479</td>\n",
       "    </tr>\n",
       "    <tr>\n",
       "      <th>2</th>\n",
       "      <td>0</td>\n",
       "      <td>3</td>\n",
       "      <td>False</td>\n",
       "      <td>True</td>\n",
       "      <td>True</td>\n",
       "      <td>False</td>\n",
       "      <td>0.0</td>\n",
       "      <td>0.0</td>\n",
       "      <td>0.0</td>\n",
       "      <td>0.000000</td>\n",
       "      <td>...</td>\n",
       "      <td>0.200804</td>\n",
       "      <td>0.200804</td>\n",
       "      <td>0.200804</td>\n",
       "      <td>0.000000</td>\n",
       "      <td>2</td>\n",
       "      <td>4</td>\n",
       "      <td>39</td>\n",
       "      <td>2</td>\n",
       "      <td>1.205144</td>\n",
       "      <td>3.205144</td>\n",
       "    </tr>\n",
       "    <tr>\n",
       "      <th>3</th>\n",
       "      <td>0</td>\n",
       "      <td>4</td>\n",
       "      <td>False</td>\n",
       "      <td>True</td>\n",
       "      <td>True</td>\n",
       "      <td>True</td>\n",
       "      <td>0.0</td>\n",
       "      <td>0.0</td>\n",
       "      <td>0.0</td>\n",
       "      <td>0.000000</td>\n",
       "      <td>...</td>\n",
       "      <td>0.200814</td>\n",
       "      <td>0.651043</td>\n",
       "      <td>0.651053</td>\n",
       "      <td>0.259943</td>\n",
       "      <td>3</td>\n",
       "      <td>3</td>\n",
       "      <td>-1</td>\n",
       "      <td>3</td>\n",
       "      <td>1.178479</td>\n",
       "      <td>4.178479</td>\n",
       "    </tr>\n",
       "    <tr>\n",
       "      <th>4</th>\n",
       "      <td>0</td>\n",
       "      <td>5</td>\n",
       "      <td>True</td>\n",
       "      <td>True</td>\n",
       "      <td>True</td>\n",
       "      <td>True</td>\n",
       "      <td>0.0</td>\n",
       "      <td>6.8</td>\n",
       "      <td>7.7</td>\n",
       "      <td>2.893832</td>\n",
       "      <td>...</td>\n",
       "      <td>0.200814</td>\n",
       "      <td>0.918348</td>\n",
       "      <td>0.969039</td>\n",
       "      <td>0.239350</td>\n",
       "      <td>4</td>\n",
       "      <td>30</td>\n",
       "      <td>-1</td>\n",
       "      <td>3</td>\n",
       "      <td>1.178479</td>\n",
       "      <td>5.178479</td>\n",
       "    </tr>\n",
       "  </tbody>\n",
       "</table>\n",
       "<p>5 rows × 27 columns</p>\n",
       "</div>"
      ],
      "text/plain": [
       "   mmsi  occ_num  net_name  mmsi_length  spawn_offshore  spoof  speed_0  \\\n",
       "0     0        1     False         True           False  False      0.0   \n",
       "1     0        2      True         True            True  False      4.2   \n",
       "2     0        3     False         True            True  False      0.0   \n",
       "3     0        4     False         True            True   True      0.0   \n",
       "4     0        5      True         True            True   True      0.0   \n",
       "\n",
       "   speed_med  speed_99  speed_std  ...       y_0     y_med      y_99  \\\n",
       "0        0.0       0.0   0.000000  ...  0.651053  0.651053  0.651053   \n",
       "1        6.9       9.6   3.818377  ...  0.699434  0.835477  0.971519   \n",
       "2        0.0       0.0   0.000000  ...  0.200804  0.200804  0.200804   \n",
       "3        0.0       0.0   0.000000  ...  0.200814  0.651043  0.651053   \n",
       "4        6.8       7.7   2.893832  ...  0.200814  0.918348  0.969039   \n",
       "\n",
       "      y_std  red_flags  entries  cluster  sus   avgflag  new_score  \n",
       "0  0.000000          1        5       39    1  1.205144   2.205144  \n",
       "1  0.192393          3        2       -1    2  1.178479   4.178479  \n",
       "2  0.000000          2        4       39    2  1.205144   3.205144  \n",
       "3  0.259943          3        3       -1    3  1.178479   4.178479  \n",
       "4  0.239350          4       30       -1    3  1.178479   5.178479  \n",
       "\n",
       "[5 rows x 27 columns]"
      ]
     },
     "execution_count": 9,
     "metadata": {},
     "output_type": "execute_result"
    }
   ],
   "source": [
    "## Creating new score -- Adding the mean red flag score of each cluster to each observation depending on which cluster it fell in\n",
    "updated = updated.merge(avg, on='cluster', how = 'left')\n",
    "updated['new_score'] = updated['red_flags'] + updated['avgflag']\n",
    "updated.head()"
   ]
  },
  {
   "cell_type": "markdown",
   "id": "e9a17922-cecd-46af-8b29-8604d38a3bb4",
   "metadata": {},
   "source": [
    "### Running second iteration of HDBSCAN"
   ]
  },
  {
   "cell_type": "code",
   "execution_count": 10,
   "id": "f84c488f-4296-4c5c-a87d-18818450e5c2",
   "metadata": {
    "tags": []
   },
   "outputs": [],
   "source": [
    "import pandas as pd\n",
    "import numpy as np\n",
    "import matplotlib.pyplot as plt\n",
    "from sklearn.cluster import DBSCAN\n",
    "from sklearn.cluster import HDBSCAN\n",
    "\n",
    "from sklearn.neighbors import NearestNeighbors\n",
    "import seaborn as sns\n",
    "from sklearn.cluster import KMeans\n",
    "from sklearn.preprocessing import StandardScaler\n",
    "\n",
    "# For upsampling during the modeling\n",
    "from imblearn.over_sampling import SMOTE\n",
    "from geopy.distance import geodesic\n",
    "import re\n",
    "import geopandas as gpd\n",
    "import glob\n",
    "from kneed import KneeLocator\n",
    "from sklearn.decomposition import PCA\n",
    "from sklearn.model_selection import RandomizedSearchCV\n",
    "from sklearn.metrics import make_scorer\n",
    "import hdbscan\n",
    "from sklearn.ensemble import RandomForestClassifier\n",
    "from scipy.stats import uniform, truncnorm, randint\n",
    "from sklearn.preprocessing import scale\n",
    "from KmeansWithNulls import KmeansWithNulls"
   ]
  },
  {
   "cell_type": "code",
   "execution_count": 10,
   "id": "9aa95451-46c9-438f-85fa-82e8dd51f003",
   "metadata": {
    "tags": []
   },
   "outputs": [
    {
     "data": {
      "text/html": [
       "<div>\n",
       "<style scoped>\n",
       "    .dataframe tbody tr th:only-of-type {\n",
       "        vertical-align: middle;\n",
       "    }\n",
       "\n",
       "    .dataframe tbody tr th {\n",
       "        vertical-align: top;\n",
       "    }\n",
       "\n",
       "    .dataframe thead th {\n",
       "        text-align: right;\n",
       "    }\n",
       "</style>\n",
       "<table border=\"1\" class=\"dataframe\">\n",
       "  <thead>\n",
       "    <tr style=\"text-align: right;\">\n",
       "      <th></th>\n",
       "      <th>mmsi</th>\n",
       "      <th>occ_num</th>\n",
       "      <th>net_name</th>\n",
       "      <th>mmsi_length</th>\n",
       "      <th>spawn_offshore</th>\n",
       "      <th>spoof</th>\n",
       "      <th>speed_0</th>\n",
       "      <th>speed_med</th>\n",
       "      <th>speed_99</th>\n",
       "      <th>speed_std</th>\n",
       "      <th>...</th>\n",
       "      <th>y_0</th>\n",
       "      <th>y_med</th>\n",
       "      <th>y_99</th>\n",
       "      <th>y_std</th>\n",
       "      <th>red_flags</th>\n",
       "      <th>entries</th>\n",
       "      <th>cluster</th>\n",
       "      <th>sus</th>\n",
       "      <th>avgflag</th>\n",
       "      <th>new_score</th>\n",
       "    </tr>\n",
       "  </thead>\n",
       "  <tbody>\n",
       "    <tr>\n",
       "      <th>0</th>\n",
       "      <td>0</td>\n",
       "      <td>1</td>\n",
       "      <td>False</td>\n",
       "      <td>True</td>\n",
       "      <td>False</td>\n",
       "      <td>False</td>\n",
       "      <td>0.0</td>\n",
       "      <td>0.0</td>\n",
       "      <td>0.0</td>\n",
       "      <td>0.000000</td>\n",
       "      <td>...</td>\n",
       "      <td>0.651053</td>\n",
       "      <td>0.651053</td>\n",
       "      <td>0.651053</td>\n",
       "      <td>0.000000</td>\n",
       "      <td>1</td>\n",
       "      <td>5</td>\n",
       "      <td>39</td>\n",
       "      <td>1</td>\n",
       "      <td>0.916777</td>\n",
       "      <td>1.916777</td>\n",
       "    </tr>\n",
       "    <tr>\n",
       "      <th>1</th>\n",
       "      <td>0</td>\n",
       "      <td>2</td>\n",
       "      <td>True</td>\n",
       "      <td>True</td>\n",
       "      <td>True</td>\n",
       "      <td>False</td>\n",
       "      <td>4.2</td>\n",
       "      <td>6.9</td>\n",
       "      <td>9.6</td>\n",
       "      <td>3.818377</td>\n",
       "      <td>...</td>\n",
       "      <td>0.699434</td>\n",
       "      <td>0.835477</td>\n",
       "      <td>0.971519</td>\n",
       "      <td>0.192393</td>\n",
       "      <td>3</td>\n",
       "      <td>2</td>\n",
       "      <td>-1</td>\n",
       "      <td>2</td>\n",
       "      <td>1.099072</td>\n",
       "      <td>3.099072</td>\n",
       "    </tr>\n",
       "    <tr>\n",
       "      <th>2</th>\n",
       "      <td>0</td>\n",
       "      <td>3</td>\n",
       "      <td>False</td>\n",
       "      <td>True</td>\n",
       "      <td>True</td>\n",
       "      <td>False</td>\n",
       "      <td>0.0</td>\n",
       "      <td>0.0</td>\n",
       "      <td>0.0</td>\n",
       "      <td>0.000000</td>\n",
       "      <td>...</td>\n",
       "      <td>0.200804</td>\n",
       "      <td>0.200804</td>\n",
       "      <td>0.200804</td>\n",
       "      <td>0.000000</td>\n",
       "      <td>2</td>\n",
       "      <td>4</td>\n",
       "      <td>39</td>\n",
       "      <td>2</td>\n",
       "      <td>0.916777</td>\n",
       "      <td>2.916777</td>\n",
       "    </tr>\n",
       "    <tr>\n",
       "      <th>3</th>\n",
       "      <td>0</td>\n",
       "      <td>4</td>\n",
       "      <td>False</td>\n",
       "      <td>True</td>\n",
       "      <td>True</td>\n",
       "      <td>True</td>\n",
       "      <td>0.0</td>\n",
       "      <td>0.0</td>\n",
       "      <td>0.0</td>\n",
       "      <td>0.000000</td>\n",
       "      <td>...</td>\n",
       "      <td>0.200814</td>\n",
       "      <td>0.651043</td>\n",
       "      <td>0.651053</td>\n",
       "      <td>0.259943</td>\n",
       "      <td>3</td>\n",
       "      <td>3</td>\n",
       "      <td>-1</td>\n",
       "      <td>3</td>\n",
       "      <td>1.099072</td>\n",
       "      <td>4.099072</td>\n",
       "    </tr>\n",
       "    <tr>\n",
       "      <th>4</th>\n",
       "      <td>0</td>\n",
       "      <td>5</td>\n",
       "      <td>True</td>\n",
       "      <td>True</td>\n",
       "      <td>True</td>\n",
       "      <td>True</td>\n",
       "      <td>0.0</td>\n",
       "      <td>6.8</td>\n",
       "      <td>7.7</td>\n",
       "      <td>2.893832</td>\n",
       "      <td>...</td>\n",
       "      <td>0.200814</td>\n",
       "      <td>0.918348</td>\n",
       "      <td>0.969039</td>\n",
       "      <td>0.239350</td>\n",
       "      <td>4</td>\n",
       "      <td>30</td>\n",
       "      <td>-1</td>\n",
       "      <td>3</td>\n",
       "      <td>1.099072</td>\n",
       "      <td>4.099072</td>\n",
       "    </tr>\n",
       "  </tbody>\n",
       "</table>\n",
       "<p>5 rows × 27 columns</p>\n",
       "</div>"
      ],
      "text/plain": [
       "   mmsi  occ_num  net_name  mmsi_length  spawn_offshore  spoof  speed_0  \\\n",
       "0     0        1     False         True           False  False      0.0   \n",
       "1     0        2      True         True            True  False      4.2   \n",
       "2     0        3     False         True            True  False      0.0   \n",
       "3     0        4     False         True            True   True      0.0   \n",
       "4     0        5      True         True            True   True      0.0   \n",
       "\n",
       "   speed_med  speed_99  speed_std  ...       y_0     y_med      y_99  \\\n",
       "0        0.0       0.0   0.000000  ...  0.651053  0.651053  0.651053   \n",
       "1        6.9       9.6   3.818377  ...  0.699434  0.835477  0.971519   \n",
       "2        0.0       0.0   0.000000  ...  0.200804  0.200804  0.200804   \n",
       "3        0.0       0.0   0.000000  ...  0.200814  0.651043  0.651053   \n",
       "4        6.8       7.7   2.893832  ...  0.200814  0.918348  0.969039   \n",
       "\n",
       "      y_std  red_flags  entries  cluster  sus   avgflag  new_score  \n",
       "0  0.000000          1        5       39    1  0.916777   1.916777  \n",
       "1  0.192393          3        2       -1    2  1.099072   3.099072  \n",
       "2  0.000000          2        4       39    2  0.916777   2.916777  \n",
       "3  0.259943          3        3       -1    3  1.099072   4.099072  \n",
       "4  0.239350          4       30       -1    3  1.099072   4.099072  \n",
       "\n",
       "[5 rows x 27 columns]"
      ]
     },
     "execution_count": 10,
     "metadata": {},
     "output_type": "execute_result"
    }
   ],
   "source": [
    "updated.head()"
   ]
  },
  {
   "cell_type": "code",
   "execution_count": 11,
   "id": "8693a3ca-c2f7-4919-a696-5433d9f1235e",
   "metadata": {
    "tags": []
   },
   "outputs": [
    {
     "data": {
      "text/html": [
       "<div>\n",
       "<style scoped>\n",
       "    .dataframe tbody tr th:only-of-type {\n",
       "        vertical-align: middle;\n",
       "    }\n",
       "\n",
       "    .dataframe tbody tr th {\n",
       "        vertical-align: top;\n",
       "    }\n",
       "\n",
       "    .dataframe thead th {\n",
       "        text-align: right;\n",
       "    }\n",
       "</style>\n",
       "<table border=\"1\" class=\"dataframe\">\n",
       "  <thead>\n",
       "    <tr style=\"text-align: right;\">\n",
       "      <th></th>\n",
       "      <th>speed_0</th>\n",
       "      <th>speed_med</th>\n",
       "      <th>speed_99</th>\n",
       "      <th>speed_std</th>\n",
       "      <th>dist_med</th>\n",
       "      <th>dist_99</th>\n",
       "      <th>dist_std</th>\n",
       "      <th>x_0</th>\n",
       "      <th>x_med</th>\n",
       "      <th>x_99</th>\n",
       "      <th>x_std</th>\n",
       "      <th>y_0</th>\n",
       "      <th>y_med</th>\n",
       "      <th>y_99</th>\n",
       "      <th>y_std</th>\n",
       "      <th>new_score</th>\n",
       "    </tr>\n",
       "  </thead>\n",
       "  <tbody>\n",
       "    <tr>\n",
       "      <th>0</th>\n",
       "      <td>-0.264238</td>\n",
       "      <td>-0.380418</td>\n",
       "      <td>-0.608081</td>\n",
       "      <td>-0.797178</td>\n",
       "      <td>-0.058250</td>\n",
       "      <td>-0.063238</td>\n",
       "      <td>-0.076438</td>\n",
       "      <td>0.133253</td>\n",
       "      <td>0.133253</td>\n",
       "      <td>0.133253</td>\n",
       "      <td>0.000000</td>\n",
       "      <td>0.651053</td>\n",
       "      <td>0.651053</td>\n",
       "      <td>0.651053</td>\n",
       "      <td>0.000000</td>\n",
       "      <td>-0.218887</td>\n",
       "    </tr>\n",
       "    <tr>\n",
       "      <th>1</th>\n",
       "      <td>0.239545</td>\n",
       "      <td>0.429431</td>\n",
       "      <td>0.378932</td>\n",
       "      <td>1.276807</td>\n",
       "      <td>0.269897</td>\n",
       "      <td>0.283699</td>\n",
       "      <td>0.729559</td>\n",
       "      <td>0.037781</td>\n",
       "      <td>0.059676</td>\n",
       "      <td>0.081572</td>\n",
       "      <td>0.030965</td>\n",
       "      <td>0.699434</td>\n",
       "      <td>0.835477</td>\n",
       "      <td>0.971519</td>\n",
       "      <td>0.192393</td>\n",
       "      <td>2.000553</td>\n",
       "    </tr>\n",
       "    <tr>\n",
       "      <th>2</th>\n",
       "      <td>-0.264238</td>\n",
       "      <td>-0.380418</td>\n",
       "      <td>-0.608081</td>\n",
       "      <td>-0.797178</td>\n",
       "      <td>-0.058250</td>\n",
       "      <td>-0.063238</td>\n",
       "      <td>-0.076438</td>\n",
       "      <td>0.069601</td>\n",
       "      <td>0.069601</td>\n",
       "      <td>0.069601</td>\n",
       "      <td>0.000000</td>\n",
       "      <td>0.200804</td>\n",
       "      <td>0.200804</td>\n",
       "      <td>0.200804</td>\n",
       "      <td>0.000000</td>\n",
       "      <td>0.905828</td>\n",
       "    </tr>\n",
       "    <tr>\n",
       "      <th>3</th>\n",
       "      <td>-0.264238</td>\n",
       "      <td>-0.380418</td>\n",
       "      <td>-0.608081</td>\n",
       "      <td>-0.797178</td>\n",
       "      <td>1.025515</td>\n",
       "      <td>0.509685</td>\n",
       "      <td>1.010310</td>\n",
       "      <td>0.069601</td>\n",
       "      <td>0.133253</td>\n",
       "      <td>0.133253</td>\n",
       "      <td>0.036749</td>\n",
       "      <td>0.200814</td>\n",
       "      <td>0.651043</td>\n",
       "      <td>0.651053</td>\n",
       "      <td>0.259943</td>\n",
       "      <td>2.000553</td>\n",
       "    </tr>\n",
       "    <tr>\n",
       "      <th>4</th>\n",
       "      <td>-0.264238</td>\n",
       "      <td>0.417694</td>\n",
       "      <td>0.183586</td>\n",
       "      <td>0.774633</td>\n",
       "      <td>0.620295</td>\n",
       "      <td>5.058441</td>\n",
       "      <td>7.032474</td>\n",
       "      <td>0.069601</td>\n",
       "      <td>0.397178</td>\n",
       "      <td>0.401358</td>\n",
       "      <td>0.091522</td>\n",
       "      <td>0.200814</td>\n",
       "      <td>0.918348</td>\n",
       "      <td>0.969039</td>\n",
       "      <td>0.239350</td>\n",
       "      <td>3.125268</td>\n",
       "    </tr>\n",
       "  </tbody>\n",
       "</table>\n",
       "</div>"
      ],
      "text/plain": [
       "    speed_0  speed_med  speed_99  speed_std  dist_med   dist_99  dist_std  \\\n",
       "0 -0.264238  -0.380418 -0.608081  -0.797178 -0.058250 -0.063238 -0.076438   \n",
       "1  0.239545   0.429431  0.378932   1.276807  0.269897  0.283699  0.729559   \n",
       "2 -0.264238  -0.380418 -0.608081  -0.797178 -0.058250 -0.063238 -0.076438   \n",
       "3 -0.264238  -0.380418 -0.608081  -0.797178  1.025515  0.509685  1.010310   \n",
       "4 -0.264238   0.417694  0.183586   0.774633  0.620295  5.058441  7.032474   \n",
       "\n",
       "        x_0     x_med      x_99     x_std       y_0     y_med      y_99  \\\n",
       "0  0.133253  0.133253  0.133253  0.000000  0.651053  0.651053  0.651053   \n",
       "1  0.037781  0.059676  0.081572  0.030965  0.699434  0.835477  0.971519   \n",
       "2  0.069601  0.069601  0.069601  0.000000  0.200804  0.200804  0.200804   \n",
       "3  0.069601  0.133253  0.133253  0.036749  0.200814  0.651043  0.651053   \n",
       "4  0.069601  0.397178  0.401358  0.091522  0.200814  0.918348  0.969039   \n",
       "\n",
       "      y_std  new_score  \n",
       "0  0.000000  -0.218887  \n",
       "1  0.192393   2.000553  \n",
       "2  0.000000   0.905828  \n",
       "3  0.259943   2.000553  \n",
       "4  0.239350   3.125268  "
      ]
     },
     "execution_count": 11,
     "metadata": {},
     "output_type": "execute_result"
    }
   ],
   "source": [
    "## Rerunning scaling\n",
    "scaled_colum = ['speed_0',\n",
    "       'speed_med', 'speed_99', 'speed_std', 'dist_med', 'dist_99', 'dist_std', 'new_score']\n",
    "scaler = StandardScaler()\n",
    "scaled_feats = updated.copy()\n",
    "\n",
    "for i in scaled_colum:\n",
    "    scaled_feats[i] = scale(scaled_feats[i])\n",
    "\n",
    "scaled_feats = pd.DataFrame(scaled_feats, columns = updated.columns)\n",
    "clust_feats = scaled_feats[['speed_0',\n",
    "       'speed_med', 'speed_99', 'speed_std', 'dist_med', 'dist_99', 'dist_std',\n",
    "       'x_0', 'x_med', 'x_99', 'x_std', 'y_0', 'y_med', 'y_99', 'y_std', 'new_score']]\n",
    "clust_feats.head()  "
   ]
  },
  {
   "cell_type": "code",
   "execution_count": 12,
   "id": "91a11bc4-ec75-4fc4-ab2c-62b530283935",
   "metadata": {
    "tags": []
   },
   "outputs": [],
   "source": [
    "## Running second iteration of HDBSCAN with adjustments and new parameters\n",
    "clusterer = hdbscan.HDBSCAN(min_cluster_size = 100,cluster_selection_epsilon = 0.5).fit_predict(clust_feats)"
   ]
  },
  {
   "cell_type": "code",
   "execution_count": 13,
   "id": "fa3d932c-ab77-4ba2-8e2d-091e9a3c0cf0",
   "metadata": {
    "tags": []
   },
   "outputs": [],
   "source": [
    "# Saving results\n",
    "cluster_dict=[]\n",
    "for c in clusterer:\n",
    "    cluster_dict.append(c)\n",
    "\n",
    "\n",
    "# adds the cluster information as a column in the df\n",
    "updated['new_clust'] = cluster_dict\n"
   ]
  },
  {
   "cell_type": "markdown",
   "id": "60ee11a5-1a38-4111-8004-d1c2b315fad6",
   "metadata": {},
   "source": [
    "### Analyzing Results"
   ]
  },
  {
   "cell_type": "code",
   "execution_count": 15,
   "id": "9a652895-d71d-4b00-a085-6eaaff31247d",
   "metadata": {
    "tags": []
   },
   "outputs": [
    {
     "data": {
      "text/plain": [
       "<matplotlib.legend.Legend at 0x7ff301000690>"
      ]
     },
     "execution_count": 15,
     "metadata": {},
     "output_type": "execute_result"
    },
    {
     "data": {
      "image/png": "[encoded data removed]",
      "text/plain": [
       "<Figure size 640x480 with 1 Axes>"
      ]
     },
     "metadata": {},
     "output_type": "display_data"
    }
   ],
   "source": [
    "## Cross referencing the resulting clusters by whether they have a bad vessel name or not\n",
    "\n",
    "new = pd.DataFrame(updated.groupby('new_clust').net_name.value_counts(normalize=True))\n",
    "new = new.reset_index()\n",
    "sns.set_palette(\"pastel\")\n",
    "sns.barplot(new, x=\"new_clust\", y=\"proportion\", hue=\"net_name\")\n",
    "plt.xlabel('Clusters')\n",
    "plt.ylabel('Proportion')\n",
    "plt.legend(title = 'Bad AIS Name')\n"
   ]
  },
  {
   "cell_type": "code",
   "execution_count": 27,
   "id": "a39cff7a-79d1-4b05-87be-8e86b2345911",
   "metadata": {
    "tags": []
   },
   "outputs": [
    {
     "data": {
      "text/html": [
       "<div>\n",
       "<style scoped>\n",
       "    .dataframe tbody tr th:only-of-type {\n",
       "        vertical-align: middle;\n",
       "    }\n",
       "\n",
       "    .dataframe tbody tr th {\n",
       "        vertical-align: top;\n",
       "    }\n",
       "\n",
       "    .dataframe thead th {\n",
       "        text-align: right;\n",
       "    }\n",
       "</style>\n",
       "<table border=\"1\" class=\"dataframe\">\n",
       "  <thead>\n",
       "    <tr style=\"text-align: right;\">\n",
       "      <th></th>\n",
       "      <th></th>\n",
       "      <th>count</th>\n",
       "    </tr>\n",
       "    <tr>\n",
       "      <th>new_clust</th>\n",
       "      <th>net_name</th>\n",
       "      <th></th>\n",
       "    </tr>\n",
       "  </thead>\n",
       "  <tbody>\n",
       "    <tr>\n",
       "      <th rowspan=\"2\" valign=\"top\">-1</th>\n",
       "      <th>False</th>\n",
       "      <td>2999</td>\n",
       "    </tr>\n",
       "    <tr>\n",
       "      <th>True</th>\n",
       "      <td>345</td>\n",
       "    </tr>\n",
       "    <tr>\n",
       "      <th>0</th>\n",
       "      <th>False</th>\n",
       "      <td>143</td>\n",
       "    </tr>\n",
       "    <tr>\n",
       "      <th>1</th>\n",
       "      <th>False</th>\n",
       "      <td>1245</td>\n",
       "    </tr>\n",
       "    <tr>\n",
       "      <th>2</th>\n",
       "      <th>False</th>\n",
       "      <td>289</td>\n",
       "    </tr>\n",
       "    <tr>\n",
       "      <th rowspan=\"2\" valign=\"top\">3</th>\n",
       "      <th>False</th>\n",
       "      <td>571</td>\n",
       "    </tr>\n",
       "    <tr>\n",
       "      <th>True</th>\n",
       "      <td>1</td>\n",
       "    </tr>\n",
       "    <tr>\n",
       "      <th rowspan=\"2\" valign=\"top\">4</th>\n",
       "      <th>False</th>\n",
       "      <td>269</td>\n",
       "    </tr>\n",
       "    <tr>\n",
       "      <th>True</th>\n",
       "      <td>2</td>\n",
       "    </tr>\n",
       "    <tr>\n",
       "      <th>5</th>\n",
       "      <th>True</th>\n",
       "      <td>162</td>\n",
       "    </tr>\n",
       "    <tr>\n",
       "      <th rowspan=\"2\" valign=\"top\">6</th>\n",
       "      <th>True</th>\n",
       "      <td>13918</td>\n",
       "    </tr>\n",
       "    <tr>\n",
       "      <th>False</th>\n",
       "      <td>1057</td>\n",
       "    </tr>\n",
       "    <tr>\n",
       "      <th>7</th>\n",
       "      <th>False</th>\n",
       "      <td>50631</td>\n",
       "    </tr>\n",
       "    <tr>\n",
       "      <th rowspan=\"2\" valign=\"top\">8</th>\n",
       "      <th>True</th>\n",
       "      <td>44227</td>\n",
       "    </tr>\n",
       "    <tr>\n",
       "      <th>False</th>\n",
       "      <td>19415</td>\n",
       "    </tr>\n",
       "    <tr>\n",
       "      <th rowspan=\"2\" valign=\"top\">9</th>\n",
       "      <th>False</th>\n",
       "      <td>79575</td>\n",
       "    </tr>\n",
       "    <tr>\n",
       "      <th>True</th>\n",
       "      <td>2707</td>\n",
       "    </tr>\n",
       "  </tbody>\n",
       "</table>\n",
       "</div>"
      ],
      "text/plain": [
       "                    count\n",
       "new_clust net_name       \n",
       "-1        False      2999\n",
       "          True        345\n",
       " 0        False       143\n",
       " 1        False      1245\n",
       " 2        False       289\n",
       " 3        False       571\n",
       "          True          1\n",
       " 4        False       269\n",
       "          True          2\n",
       " 5        True        162\n",
       " 6        True      13918\n",
       "          False      1057\n",
       " 7        False     50631\n",
       " 8        True      44227\n",
       "          False     19415\n",
       " 9        False     79575\n",
       "          True       2707"
      ]
     },
     "execution_count": 27,
     "metadata": {},
     "output_type": "execute_result"
    }
   ],
   "source": [
    "# Showing the variational density differences per cluster\n",
    "range = pd.DataFrame(updated.groupby('new_clust').net_name.value_counts())\n",
    "range"
   ]
  },
  {
   "cell_type": "code",
   "execution_count": 28,
   "id": "5b77ae01-4f2e-4953-a34b-712c7cbb8441",
   "metadata": {
    "tags": []
   },
   "outputs": [
    {
     "data": {
      "text/plain": [
       "count    61362\n",
       "dtype: int64"
      ]
     },
     "execution_count": 28,
     "metadata": {},
     "output_type": "execute_result"
    }
   ],
   "source": [
    "range.query(\"net_name == True\").sum()"
   ]
  },
  {
   "cell_type": "code",
   "execution_count": 30,
   "id": "f98c76e5-75ae-477a-bd94-d106689ae595",
   "metadata": {
    "tags": []
   },
   "outputs": [
    {
     "data": {
      "text/plain": [
       "count    156194\n",
       "dtype: int64"
      ]
     },
     "execution_count": 30,
     "metadata": {},
     "output_type": "execute_result"
    }
   ],
   "source": [
    "range.query(\"net_name == False\").sum()"
   ]
  },
  {
   "cell_type": "code",
   "execution_count": 33,
   "id": "4e24d02a-1cb8-4663-9212-8119e69ea968",
   "metadata": {
    "tags": []
   },
   "outputs": [
    {
     "data": {
      "text/plain": [
       "95.02134871744728"
      ]
     },
     "execution_count": 33,
     "metadata": {},
     "output_type": "execute_result"
    }
   ],
   "source": [
    "#Percentage of bad net_names captured in clusters 5, 6, and 8\n",
    "((162+13918+44227) / (345+1+2+162+13918+44227+2707))*100"
   ]
  },
  {
   "cell_type": "code",
   "execution_count": 32,
   "id": "2946e666-8916-44b9-8c81-e5ff63b0e26e",
   "metadata": {},
   "outputs": [
    {
     "data": {
      "text/plain": [
       "0.39285760016389876"
      ]
     },
     "execution_count": 32,
     "metadata": {},
     "output_type": "execute_result"
    }
   ],
   "source": [
    "#Proportion of trips in dataset with bad net_name\n",
    "61362/156194 "
   ]
  },
  {
   "cell_type": "code",
   "execution_count": 40,
   "id": "93a8b87f-9d55-4dbc-8e9c-a21e7dac4c68",
   "metadata": {
    "tags": []
   },
   "outputs": [
    {
     "data": {
      "text/html": [
       "<div>\n",
       "<style scoped>\n",
       "    .dataframe tbody tr th:only-of-type {\n",
       "        vertical-align: middle;\n",
       "    }\n",
       "\n",
       "    .dataframe tbody tr th {\n",
       "        vertical-align: top;\n",
       "    }\n",
       "\n",
       "    .dataframe thead th {\n",
       "        text-align: right;\n",
       "    }\n",
       "</style>\n",
       "<table border=\"1\" class=\"dataframe\">\n",
       "  <thead>\n",
       "    <tr style=\"text-align: right;\">\n",
       "      <th></th>\n",
       "      <th>mmsi</th>\n",
       "      <th>occ_num</th>\n",
       "      <th>net_name</th>\n",
       "      <th>mmsi_length</th>\n",
       "      <th>spawn_offshore</th>\n",
       "      <th>spoof</th>\n",
       "      <th>speed_0</th>\n",
       "      <th>speed_med</th>\n",
       "      <th>speed_99</th>\n",
       "      <th>speed_std</th>\n",
       "      <th>...</th>\n",
       "      <th>y_med</th>\n",
       "      <th>y_99</th>\n",
       "      <th>y_std</th>\n",
       "      <th>red_flags</th>\n",
       "      <th>entries</th>\n",
       "      <th>cluster</th>\n",
       "      <th>sus</th>\n",
       "      <th>avgflag</th>\n",
       "      <th>new_score</th>\n",
       "      <th>new_clust</th>\n",
       "    </tr>\n",
       "  </thead>\n",
       "  <tbody>\n",
       "    <tr>\n",
       "      <th>2</th>\n",
       "      <td>0</td>\n",
       "      <td>3</td>\n",
       "      <td>False</td>\n",
       "      <td>True</td>\n",
       "      <td>True</td>\n",
       "      <td>False</td>\n",
       "      <td>0.0</td>\n",
       "      <td>0.00</td>\n",
       "      <td>0.0</td>\n",
       "      <td>0.000000</td>\n",
       "      <td>...</td>\n",
       "      <td>0.200804</td>\n",
       "      <td>0.200804</td>\n",
       "      <td>0.000000</td>\n",
       "      <td>2</td>\n",
       "      <td>4</td>\n",
       "      <td>39</td>\n",
       "      <td>2</td>\n",
       "      <td>1.205144</td>\n",
       "      <td>3.205144</td>\n",
       "      <td>8</td>\n",
       "    </tr>\n",
       "    <tr>\n",
       "      <th>5</th>\n",
       "      <td>0</td>\n",
       "      <td>6</td>\n",
       "      <td>False</td>\n",
       "      <td>True</td>\n",
       "      <td>True</td>\n",
       "      <td>True</td>\n",
       "      <td>0.0</td>\n",
       "      <td>0.20</td>\n",
       "      <td>12.7</td>\n",
       "      <td>5.129494</td>\n",
       "      <td>...</td>\n",
       "      <td>0.940429</td>\n",
       "      <td>0.959619</td>\n",
       "      <td>0.013066</td>\n",
       "      <td>3</td>\n",
       "      <td>22</td>\n",
       "      <td>39</td>\n",
       "      <td>3</td>\n",
       "      <td>1.205144</td>\n",
       "      <td>4.205144</td>\n",
       "      <td>6</td>\n",
       "    </tr>\n",
       "    <tr>\n",
       "      <th>7</th>\n",
       "      <td>0</td>\n",
       "      <td>8</td>\n",
       "      <td>False</td>\n",
       "      <td>True</td>\n",
       "      <td>True</td>\n",
       "      <td>False</td>\n",
       "      <td>5.3</td>\n",
       "      <td>9.05</td>\n",
       "      <td>10.1</td>\n",
       "      <td>1.843638</td>\n",
       "      <td>...</td>\n",
       "      <td>0.991570</td>\n",
       "      <td>0.992140</td>\n",
       "      <td>0.000457</td>\n",
       "      <td>2</td>\n",
       "      <td>6</td>\n",
       "      <td>39</td>\n",
       "      <td>2</td>\n",
       "      <td>1.205144</td>\n",
       "      <td>3.205144</td>\n",
       "      <td>8</td>\n",
       "    </tr>\n",
       "    <tr>\n",
       "      <th>14</th>\n",
       "      <td>2</td>\n",
       "      <td>2</td>\n",
       "      <td>False</td>\n",
       "      <td>True</td>\n",
       "      <td>True</td>\n",
       "      <td>False</td>\n",
       "      <td>0.8</td>\n",
       "      <td>0.80</td>\n",
       "      <td>0.8</td>\n",
       "      <td>1.467670</td>\n",
       "      <td>...</td>\n",
       "      <td>0.510470</td>\n",
       "      <td>0.510470</td>\n",
       "      <td>0.007414</td>\n",
       "      <td>2</td>\n",
       "      <td>1</td>\n",
       "      <td>39</td>\n",
       "      <td>2</td>\n",
       "      <td>1.205144</td>\n",
       "      <td>3.205144</td>\n",
       "      <td>8</td>\n",
       "    </tr>\n",
       "    <tr>\n",
       "      <th>15</th>\n",
       "      <td>2</td>\n",
       "      <td>3</td>\n",
       "      <td>False</td>\n",
       "      <td>True</td>\n",
       "      <td>True</td>\n",
       "      <td>False</td>\n",
       "      <td>1.7</td>\n",
       "      <td>1.70</td>\n",
       "      <td>1.7</td>\n",
       "      <td>1.467670</td>\n",
       "      <td>...</td>\n",
       "      <td>0.510480</td>\n",
       "      <td>0.510480</td>\n",
       "      <td>0.007414</td>\n",
       "      <td>2</td>\n",
       "      <td>1</td>\n",
       "      <td>39</td>\n",
       "      <td>2</td>\n",
       "      <td>1.205144</td>\n",
       "      <td>3.205144</td>\n",
       "      <td>8</td>\n",
       "    </tr>\n",
       "    <tr>\n",
       "      <th>...</th>\n",
       "      <td>...</td>\n",
       "      <td>...</td>\n",
       "      <td>...</td>\n",
       "      <td>...</td>\n",
       "      <td>...</td>\n",
       "      <td>...</td>\n",
       "      <td>...</td>\n",
       "      <td>...</td>\n",
       "      <td>...</td>\n",
       "      <td>...</td>\n",
       "      <td>...</td>\n",
       "      <td>...</td>\n",
       "      <td>...</td>\n",
       "      <td>...</td>\n",
       "      <td>...</td>\n",
       "      <td>...</td>\n",
       "      <td>...</td>\n",
       "      <td>...</td>\n",
       "      <td>...</td>\n",
       "      <td>...</td>\n",
       "      <td>...</td>\n",
       "    </tr>\n",
       "    <tr>\n",
       "      <th>217550</th>\n",
       "      <td>1073741822</td>\n",
       "      <td>4</td>\n",
       "      <td>False</td>\n",
       "      <td>True</td>\n",
       "      <td>True</td>\n",
       "      <td>False</td>\n",
       "      <td>1.4</td>\n",
       "      <td>1.40</td>\n",
       "      <td>1.4</td>\n",
       "      <td>0.000000</td>\n",
       "      <td>...</td>\n",
       "      <td>0.938439</td>\n",
       "      <td>0.938439</td>\n",
       "      <td>0.000000</td>\n",
       "      <td>2</td>\n",
       "      <td>2</td>\n",
       "      <td>39</td>\n",
       "      <td>2</td>\n",
       "      <td>1.205144</td>\n",
       "      <td>3.205144</td>\n",
       "      <td>8</td>\n",
       "    </tr>\n",
       "    <tr>\n",
       "      <th>217551</th>\n",
       "      <td>1073741823</td>\n",
       "      <td>1</td>\n",
       "      <td>False</td>\n",
       "      <td>True</td>\n",
       "      <td>True</td>\n",
       "      <td>False</td>\n",
       "      <td>1.0</td>\n",
       "      <td>1.30</td>\n",
       "      <td>2.1</td>\n",
       "      <td>0.491935</td>\n",
       "      <td>...</td>\n",
       "      <td>0.723334</td>\n",
       "      <td>0.724334</td>\n",
       "      <td>0.000792</td>\n",
       "      <td>2</td>\n",
       "      <td>5</td>\n",
       "      <td>39</td>\n",
       "      <td>2</td>\n",
       "      <td>1.205144</td>\n",
       "      <td>3.205144</td>\n",
       "      <td>8</td>\n",
       "    </tr>\n",
       "    <tr>\n",
       "      <th>217553</th>\n",
       "      <td>1073741823</td>\n",
       "      <td>3</td>\n",
       "      <td>False</td>\n",
       "      <td>True</td>\n",
       "      <td>True</td>\n",
       "      <td>False</td>\n",
       "      <td>1.4</td>\n",
       "      <td>1.70</td>\n",
       "      <td>2.2</td>\n",
       "      <td>0.380789</td>\n",
       "      <td>...</td>\n",
       "      <td>0.721684</td>\n",
       "      <td>0.721964</td>\n",
       "      <td>0.000353</td>\n",
       "      <td>2</td>\n",
       "      <td>5</td>\n",
       "      <td>39</td>\n",
       "      <td>2</td>\n",
       "      <td>1.205144</td>\n",
       "      <td>3.205144</td>\n",
       "      <td>8</td>\n",
       "    </tr>\n",
       "    <tr>\n",
       "      <th>217554</th>\n",
       "      <td>1073741823</td>\n",
       "      <td>4</td>\n",
       "      <td>False</td>\n",
       "      <td>True</td>\n",
       "      <td>True</td>\n",
       "      <td>False</td>\n",
       "      <td>0.8</td>\n",
       "      <td>0.80</td>\n",
       "      <td>4.4</td>\n",
       "      <td>1.039230</td>\n",
       "      <td>...</td>\n",
       "      <td>0.731735</td>\n",
       "      <td>0.731735</td>\n",
       "      <td>0.000121</td>\n",
       "      <td>2</td>\n",
       "      <td>12</td>\n",
       "      <td>39</td>\n",
       "      <td>2</td>\n",
       "      <td>1.205144</td>\n",
       "      <td>3.205144</td>\n",
       "      <td>8</td>\n",
       "    </tr>\n",
       "    <tr>\n",
       "      <th>217555</th>\n",
       "      <td>1073741823</td>\n",
       "      <td>5</td>\n",
       "      <td>False</td>\n",
       "      <td>True</td>\n",
       "      <td>True</td>\n",
       "      <td>True</td>\n",
       "      <td>0.3</td>\n",
       "      <td>1.00</td>\n",
       "      <td>2.6</td>\n",
       "      <td>0.761994</td>\n",
       "      <td>...</td>\n",
       "      <td>0.704019</td>\n",
       "      <td>0.720014</td>\n",
       "      <td>0.007520</td>\n",
       "      <td>3</td>\n",
       "      <td>36</td>\n",
       "      <td>39</td>\n",
       "      <td>3</td>\n",
       "      <td>1.205144</td>\n",
       "      <td>4.205144</td>\n",
       "      <td>6</td>\n",
       "    </tr>\n",
       "  </tbody>\n",
       "</table>\n",
       "<p>20472 rows × 28 columns</p>\n",
       "</div>"
      ],
      "text/plain": [
       "              mmsi  occ_num  net_name  mmsi_length  spawn_offshore  spoof  \\\n",
       "2                0        3     False         True            True  False   \n",
       "5                0        6     False         True            True   True   \n",
       "7                0        8     False         True            True  False   \n",
       "14               2        2     False         True            True  False   \n",
       "15               2        3     False         True            True  False   \n",
       "...            ...      ...       ...          ...             ...    ...   \n",
       "217550  1073741822        4     False         True            True  False   \n",
       "217551  1073741823        1     False         True            True  False   \n",
       "217553  1073741823        3     False         True            True  False   \n",
       "217554  1073741823        4     False         True            True  False   \n",
       "217555  1073741823        5     False         True            True   True   \n",
       "\n",
       "        speed_0  speed_med  speed_99  speed_std  ...     y_med      y_99  \\\n",
       "2           0.0       0.00       0.0   0.000000  ...  0.200804  0.200804   \n",
       "5           0.0       0.20      12.7   5.129494  ...  0.940429  0.959619   \n",
       "7           5.3       9.05      10.1   1.843638  ...  0.991570  0.992140   \n",
       "14          0.8       0.80       0.8   1.467670  ...  0.510470  0.510470   \n",
       "15          1.7       1.70       1.7   1.467670  ...  0.510480  0.510480   \n",
       "...         ...        ...       ...        ...  ...       ...       ...   \n",
       "217550      1.4       1.40       1.4   0.000000  ...  0.938439  0.938439   \n",
       "217551      1.0       1.30       2.1   0.491935  ...  0.723334  0.724334   \n",
       "217553      1.4       1.70       2.2   0.380789  ...  0.721684  0.721964   \n",
       "217554      0.8       0.80       4.4   1.039230  ...  0.731735  0.731735   \n",
       "217555      0.3       1.00       2.6   0.761994  ...  0.704019  0.720014   \n",
       "\n",
       "           y_std  red_flags  entries  cluster  sus   avgflag  new_score  \\\n",
       "2       0.000000          2        4       39    2  1.205144   3.205144   \n",
       "5       0.013066          3       22       39    3  1.205144   4.205144   \n",
       "7       0.000457          2        6       39    2  1.205144   3.205144   \n",
       "14      0.007414          2        1       39    2  1.205144   3.205144   \n",
       "15      0.007414          2        1       39    2  1.205144   3.205144   \n",
       "...          ...        ...      ...      ...  ...       ...        ...   \n",
       "217550  0.000000          2        2       39    2  1.205144   3.205144   \n",
       "217551  0.000792          2        5       39    2  1.205144   3.205144   \n",
       "217553  0.000353          2        5       39    2  1.205144   3.205144   \n",
       "217554  0.000121          2       12       39    2  1.205144   3.205144   \n",
       "217555  0.007520          3       36       39    3  1.205144   4.205144   \n",
       "\n",
       "        new_clust  \n",
       "2               8  \n",
       "5               6  \n",
       "7               8  \n",
       "14              8  \n",
       "15              8  \n",
       "...           ...  \n",
       "217550          8  \n",
       "217551          8  \n",
       "217553          8  \n",
       "217554          8  \n",
       "217555          6  \n",
       "\n",
       "[20472 rows x 28 columns]"
      ]
     },
     "execution_count": 40,
     "metadata": {},
     "output_type": "execute_result"
    }
   ],
   "source": [
    "#Query for the primary clusters with good vessel names\n",
    "goodnames = updated.query(\"new_clust == [5,6,8] & net_name == False\")\n",
    "goodnames"
   ]
  },
  {
   "cell_type": "code",
   "execution_count": 55,
   "id": "4a9bad44-6b54-4b6d-a7f3-2024015bd6c7",
   "metadata": {
    "tags": []
   },
   "outputs": [
    {
     "data": {
      "text/html": [
       "<div>\n",
       "<style scoped>\n",
       "    .dataframe tbody tr th:only-of-type {\n",
       "        vertical-align: middle;\n",
       "    }\n",
       "\n",
       "    .dataframe tbody tr th {\n",
       "        vertical-align: top;\n",
       "    }\n",
       "\n",
       "    .dataframe thead th {\n",
       "        text-align: right;\n",
       "    }\n",
       "</style>\n",
       "<table border=\"1\" class=\"dataframe\">\n",
       "  <thead>\n",
       "    <tr style=\"text-align: right;\">\n",
       "      <th></th>\n",
       "      <th>MMSI</th>\n",
       "    </tr>\n",
       "  </thead>\n",
       "  <tbody>\n",
       "    <tr>\n",
       "      <th>0</th>\n",
       "      <td>0</td>\n",
       "    </tr>\n",
       "    <tr>\n",
       "      <th>1</th>\n",
       "      <td>2</td>\n",
       "    </tr>\n",
       "    <tr>\n",
       "      <th>2</th>\n",
       "      <td>9</td>\n",
       "    </tr>\n",
       "    <tr>\n",
       "      <th>3</th>\n",
       "      <td>33</td>\n",
       "    </tr>\n",
       "    <tr>\n",
       "      <th>4</th>\n",
       "      <td>41</td>\n",
       "    </tr>\n",
       "    <tr>\n",
       "      <th>...</th>\n",
       "      <td>...</td>\n",
       "    </tr>\n",
       "    <tr>\n",
       "      <th>13306</th>\n",
       "      <td>1073676288</td>\n",
       "    </tr>\n",
       "    <tr>\n",
       "      <th>13307</th>\n",
       "      <td>1073740544</td>\n",
       "    </tr>\n",
       "    <tr>\n",
       "      <th>13308</th>\n",
       "      <td>1073741568</td>\n",
       "    </tr>\n",
       "    <tr>\n",
       "      <th>13309</th>\n",
       "      <td>1073741822</td>\n",
       "    </tr>\n",
       "    <tr>\n",
       "      <th>13310</th>\n",
       "      <td>1073741823</td>\n",
       "    </tr>\n",
       "  </tbody>\n",
       "</table>\n",
       "<p>13311 rows × 1 columns</p>\n",
       "</div>"
      ],
      "text/plain": [
       "             MMSI\n",
       "0               0\n",
       "1               2\n",
       "2               9\n",
       "3              33\n",
       "4              41\n",
       "...           ...\n",
       "13306  1073676288\n",
       "13307  1073740544\n",
       "13308  1073741568\n",
       "13309  1073741822\n",
       "13310  1073741823\n",
       "\n",
       "[13311 rows x 1 columns]"
      ]
     },
     "execution_count": 55,
     "metadata": {},
     "output_type": "execute_result"
    }
   ],
   "source": [
    "#List of unique MMSIs in primary clusters but have good vessel names\n",
    "good_mmsi_list = pd.DataFrame(goodnames.mmsi.unique())\n",
    "good_mmsi_list.columns = [\"MMSI\"]\n",
    "good_mmsi_list"
   ]
  },
  {
   "cell_type": "code",
   "execution_count": 45,
   "id": "e635a06e-7f41-4d0a-bd1a-a8f7316a571c",
   "metadata": {
    "tags": []
   },
   "outputs": [
    {
     "data": {
      "text/plain": [
       "13311"
      ]
     },
     "execution_count": 45,
     "metadata": {},
     "output_type": "execute_result"
    }
   ],
   "source": [
    "#Note that unique list is almost half, indicating that several MMSIs had multiple trips in the dataset\n",
    "len(good_mmsi_list)"
   ]
  },
  {
   "cell_type": "code",
   "execution_count": 51,
   "id": "fe192d91-4471-43c2-9fe6-794cc45642f5",
   "metadata": {
    "tags": []
   },
   "outputs": [],
   "source": [
    "good_mmsi_list.to_csv('cluster_mmsi_list.csv', index=False)"
   ]
  },
  {
   "cell_type": "code",
   "execution_count": 71,
   "id": "f18624d6-6492-42f3-8659-f61792e92bab",
   "metadata": {
    "tags": []
   },
   "outputs": [],
   "source": [
    "updated.to_csv('final_HDBSCAN_results.csv', index=False)\n"
   ]
  },
  {
   "cell_type": "code",
   "execution_count": null,
   "id": "9564f56b-910b-49c0-8461-bbb36caeac29",
   "metadata": {},
   "outputs": [],
   "source": []
  }
 ],
 "metadata": {
  "kernelspec": {
   "display_name": "Python 3 (ipykernel)",
   "language": "python",
   "name": "python3"
  },
  "language_info": {
   "codemirror_mode": {
    "name": "ipython",
    "version": 3
   },
   "file_extension": ".py",
   "mimetype": "text/x-python",
   "name": "python",
   "nbconvert_exporter": "python",
   "pygments_lexer": "ipython3",
   "version": "3.11.4"
  }
 },
 "nbformat": 4,
 "nbformat_minor": 5
}
